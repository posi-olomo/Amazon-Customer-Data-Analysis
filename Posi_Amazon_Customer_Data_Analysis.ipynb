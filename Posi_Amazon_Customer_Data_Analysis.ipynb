{
 "cells": [
  {
   "cell_type": "code",
   "execution_count": 63,
   "id": "25ad8a0f",
   "metadata": {},
   "outputs": [],
   "source": [
    "import pandas as pd\n",
    "import seaborn as sns\n",
    "import numpy as np\n",
    "import matplotlib.pyplot as plt\n",
    "import sqlite3"
   ]
  },
  {
   "cell_type": "code",
   "execution_count": 64,
   "id": "09fcd083",
   "metadata": {},
   "outputs": [],
   "source": [
    "con = sqlite3.connect('C:/Users/user/Documents/Projects/database.sqlite')"
   ]
  },
  {
   "cell_type": "code",
   "execution_count": 65,
   "id": "4b61596d",
   "metadata": {},
   "outputs": [
    {
     "data": {
      "text/plain": [
       "sqlite3.Connection"
      ]
     },
     "execution_count": 65,
     "metadata": {},
     "output_type": "execute_result"
    }
   ],
   "source": [
    "type(con)"
   ]
  },
  {
   "cell_type": "code",
   "execution_count": 4,
   "id": "65c254f2",
   "metadata": {},
   "outputs": [],
   "source": [
    "df = open('C:/Users/user/Documents/Projects/database.sqlite')"
   ]
  },
  {
   "cell_type": "code",
   "execution_count": 6,
   "id": "eb50f211",
   "metadata": {},
   "outputs": [],
   "source": [
    "# df = pd.read_sql_query(\"select * from Reviews\",con)"
   ]
  },
  {
   "cell_type": "code",
   "execution_count": 7,
   "id": "698036b3",
   "metadata": {},
   "outputs": [],
   "source": [
    "df = pd.read_csv('Reviews.csv')"
   ]
  },
  {
   "cell_type": "code",
   "execution_count": 8,
   "id": "5bb76097",
   "metadata": {},
   "outputs": [
    {
     "data": {
      "text/html": [
       "<div>\n",
       "<style scoped>\n",
       "    .dataframe tbody tr th:only-of-type {\n",
       "        vertical-align: middle;\n",
       "    }\n",
       "\n",
       "    .dataframe tbody tr th {\n",
       "        vertical-align: top;\n",
       "    }\n",
       "\n",
       "    .dataframe thead th {\n",
       "        text-align: right;\n",
       "    }\n",
       "</style>\n",
       "<table border=\"1\" class=\"dataframe\">\n",
       "  <thead>\n",
       "    <tr style=\"text-align: right;\">\n",
       "      <th></th>\n",
       "      <th>Id</th>\n",
       "      <th>ProductId</th>\n",
       "      <th>UserId</th>\n",
       "      <th>ProfileName</th>\n",
       "      <th>HelpfulnessNumerator</th>\n",
       "      <th>HelpfulnessDenominator</th>\n",
       "      <th>Score</th>\n",
       "      <th>Time</th>\n",
       "      <th>Summary</th>\n",
       "      <th>Text</th>\n",
       "    </tr>\n",
       "  </thead>\n",
       "  <tbody>\n",
       "    <tr>\n",
       "      <th>0</th>\n",
       "      <td>1</td>\n",
       "      <td>B001E4KFG0</td>\n",
       "      <td>A3SGXH7AUHU8GW</td>\n",
       "      <td>delmartian</td>\n",
       "      <td>1</td>\n",
       "      <td>1</td>\n",
       "      <td>5</td>\n",
       "      <td>1303862400</td>\n",
       "      <td>Good Quality Dog Food</td>\n",
       "      <td>I have bought several of the Vitality canned d...</td>\n",
       "    </tr>\n",
       "    <tr>\n",
       "      <th>1</th>\n",
       "      <td>2</td>\n",
       "      <td>B00813GRG4</td>\n",
       "      <td>A1D87F6ZCVE5NK</td>\n",
       "      <td>dll pa</td>\n",
       "      <td>0</td>\n",
       "      <td>0</td>\n",
       "      <td>1</td>\n",
       "      <td>1346976000</td>\n",
       "      <td>Not as Advertised</td>\n",
       "      <td>Product arrived labeled as Jumbo Salted Peanut...</td>\n",
       "    </tr>\n",
       "    <tr>\n",
       "      <th>2</th>\n",
       "      <td>3</td>\n",
       "      <td>B000LQOCH0</td>\n",
       "      <td>ABXLMWJIXXAIN</td>\n",
       "      <td>Natalia Corres \"Natalia Corres\"</td>\n",
       "      <td>1</td>\n",
       "      <td>1</td>\n",
       "      <td>4</td>\n",
       "      <td>1219017600</td>\n",
       "      <td>\"Delight\" says it all</td>\n",
       "      <td>This is a confection that has been around a fe...</td>\n",
       "    </tr>\n",
       "    <tr>\n",
       "      <th>3</th>\n",
       "      <td>4</td>\n",
       "      <td>B000UA0QIQ</td>\n",
       "      <td>A395BORC6FGVXV</td>\n",
       "      <td>Karl</td>\n",
       "      <td>3</td>\n",
       "      <td>3</td>\n",
       "      <td>2</td>\n",
       "      <td>1307923200</td>\n",
       "      <td>Cough Medicine</td>\n",
       "      <td>If you are looking for the secret ingredient i...</td>\n",
       "    </tr>\n",
       "    <tr>\n",
       "      <th>4</th>\n",
       "      <td>5</td>\n",
       "      <td>B006K2ZZ7K</td>\n",
       "      <td>A1UQRSCLF8GW1T</td>\n",
       "      <td>Michael D. Bigham \"M. Wassir\"</td>\n",
       "      <td>0</td>\n",
       "      <td>0</td>\n",
       "      <td>5</td>\n",
       "      <td>1350777600</td>\n",
       "      <td>Great taffy</td>\n",
       "      <td>Great taffy at a great price.  There was a wid...</td>\n",
       "    </tr>\n",
       "  </tbody>\n",
       "</table>\n",
       "</div>"
      ],
      "text/plain": [
       "   Id   ProductId          UserId                      ProfileName  \\\n",
       "0   1  B001E4KFG0  A3SGXH7AUHU8GW                       delmartian   \n",
       "1   2  B00813GRG4  A1D87F6ZCVE5NK                           dll pa   \n",
       "2   3  B000LQOCH0   ABXLMWJIXXAIN  Natalia Corres \"Natalia Corres\"   \n",
       "3   4  B000UA0QIQ  A395BORC6FGVXV                             Karl   \n",
       "4   5  B006K2ZZ7K  A1UQRSCLF8GW1T    Michael D. Bigham \"M. Wassir\"   \n",
       "\n",
       "   HelpfulnessNumerator  HelpfulnessDenominator  Score        Time  \\\n",
       "0                     1                       1      5  1303862400   \n",
       "1                     0                       0      1  1346976000   \n",
       "2                     1                       1      4  1219017600   \n",
       "3                     3                       3      2  1307923200   \n",
       "4                     0                       0      5  1350777600   \n",
       "\n",
       "                 Summary                                               Text  \n",
       "0  Good Quality Dog Food  I have bought several of the Vitality canned d...  \n",
       "1      Not as Advertised  Product arrived labeled as Jumbo Salted Peanut...  \n",
       "2  \"Delight\" says it all  This is a confection that has been around a fe...  \n",
       "3         Cough Medicine  If you are looking for the secret ingredient i...  \n",
       "4            Great taffy  Great taffy at a great price.  There was a wid...  "
      ]
     },
     "execution_count": 8,
     "metadata": {},
     "output_type": "execute_result"
    }
   ],
   "source": [
    "df.head()"
   ]
  },
  {
   "cell_type": "code",
   "execution_count": 9,
   "id": "eb897573",
   "metadata": {},
   "outputs": [
    {
     "data": {
      "text/plain": [
       "(568454, 10)"
      ]
     },
     "execution_count": 9,
     "metadata": {},
     "output_type": "execute_result"
    }
   ],
   "source": [
    "df.shape"
   ]
  },
  {
   "cell_type": "code",
   "execution_count": 10,
   "id": "3dab6128",
   "metadata": {},
   "outputs": [
    {
     "data": {
      "text/plain": [
       "'I have bought several of the Vitality canned dog food products and have found them all to be of good quality. The product looks more like a stew than a processed meat and it smells better. My Labrador is finicky and she appreciates this product better than  most.'"
      ]
     },
     "execution_count": 10,
     "metadata": {},
     "output_type": "execute_result"
    }
   ],
   "source": [
    "df['Text'][0]"
   ]
  },
  {
   "cell_type": "code",
   "execution_count": 11,
   "id": "ac9eaacb",
   "metadata": {},
   "outputs": [
    {
     "data": {
      "text/plain": [
       "'Good Quality Dog Food'"
      ]
     },
     "execution_count": 11,
     "metadata": {},
     "output_type": "execute_result"
    }
   ],
   "source": [
    "df['Summary'][0]"
   ]
  },
  {
   "cell_type": "code",
   "execution_count": 12,
   "id": "818efb51",
   "metadata": {},
   "outputs": [],
   "source": [
    "text = df['Summary'][0]"
   ]
  },
  {
   "cell_type": "markdown",
   "id": "55121dab",
   "metadata": {},
   "source": [
    "# Perform Sentiment Analysis on Data"
   ]
  },
  {
   "cell_type": "code",
   "execution_count": 13,
   "id": "bd824e21",
   "metadata": {},
   "outputs": [
    {
     "name": "stdout",
     "output_type": "stream",
     "text": [
      "Requirement already satisfied: TextBlob in c:\\users\\user\\anaconda3\\lib\\site-packages (0.17.1)\n",
      "Requirement already satisfied: nltk>=3.1 in c:\\users\\user\\anaconda3\\lib\\site-packages (from TextBlob) (3.7)\n",
      "Requirement already satisfied: joblib in c:\\users\\user\\anaconda3\\lib\\site-packages (from nltk>=3.1->TextBlob) (1.0.1)\n",
      "Requirement already satisfied: click in c:\\users\\user\\anaconda3\\lib\\site-packages (from nltk>=3.1->TextBlob) (8.0.1)\n",
      "Requirement already satisfied: tqdm in c:\\users\\user\\anaconda3\\lib\\site-packages (from nltk>=3.1->TextBlob) (4.59.0)\n",
      "Requirement already satisfied: regex>=2021.8.3 in c:\\users\\user\\anaconda3\\lib\\site-packages (from nltk>=3.1->TextBlob) (2022.1.18)\n",
      "Requirement already satisfied: colorama in c:\\users\\user\\anaconda3\\lib\\site-packages (from click->nltk>=3.1->TextBlob) (0.4.4)\n",
      "Requirement already satisfied: importlib-metadata in c:\\users\\user\\anaconda3\\lib\\site-packages (from click->nltk>=3.1->TextBlob) (3.10.0)\n",
      "Requirement already satisfied: typing-extensions>=3.6.4 in c:\\users\\user\\anaconda3\\lib\\site-packages (from importlib-metadata->click->nltk>=3.1->TextBlob) (3.7.4.3)\n",
      "Requirement already satisfied: zipp>=0.5 in c:\\users\\user\\anaconda3\\lib\\site-packages (from importlib-metadata->click->nltk>=3.1->TextBlob) (3.4.1)\n"
     ]
    }
   ],
   "source": [
    "#Install the necessary modules and packages\n",
    "!pip install TextBlob\n",
    "from textblob import TextBlob"
   ]
  },
  {
   "cell_type": "code",
   "execution_count": 14,
   "id": "d809281d",
   "metadata": {},
   "outputs": [
    {
     "data": {
      "text/plain": [
       "0.7"
      ]
     },
     "execution_count": 14,
     "metadata": {},
     "output_type": "execute_result"
    }
   ],
   "source": [
    "TextBlob(text).sentiment.polarity"
   ]
  },
  {
   "cell_type": "code",
   "execution_count": 15,
   "id": "0a6ba15e",
   "metadata": {},
   "outputs": [],
   "source": [
    "polarity = []\n",
    "for i in df['Summary']:\n",
    "    try:\n",
    "        polarity.append(TextBlob(i).sentiment.polarity)\n",
    "    except:\n",
    "        polarity.append(0)"
   ]
  },
  {
   "cell_type": "code",
   "execution_count": 16,
   "id": "9e7a6403",
   "metadata": {},
   "outputs": [
    {
     "data": {
      "text/plain": [
       "568454"
      ]
     },
     "execution_count": 16,
     "metadata": {},
     "output_type": "execute_result"
    }
   ],
   "source": [
    "len(polarity)"
   ]
  },
  {
   "cell_type": "code",
   "execution_count": 17,
   "id": "02b8b9ab",
   "metadata": {},
   "outputs": [],
   "source": [
    "#copy the original data\n",
    "data = df.copy()"
   ]
  },
  {
   "cell_type": "code",
   "execution_count": 18,
   "id": "1975cb54",
   "metadata": {},
   "outputs": [],
   "source": [
    "#create a column titled \"Polarity\"\n",
    "data['Polarity']=polarity"
   ]
  },
  {
   "cell_type": "code",
   "execution_count": 19,
   "id": "d65d41a3",
   "metadata": {},
   "outputs": [
    {
     "data": {
      "text/html": [
       "<div>\n",
       "<style scoped>\n",
       "    .dataframe tbody tr th:only-of-type {\n",
       "        vertical-align: middle;\n",
       "    }\n",
       "\n",
       "    .dataframe tbody tr th {\n",
       "        vertical-align: top;\n",
       "    }\n",
       "\n",
       "    .dataframe thead th {\n",
       "        text-align: right;\n",
       "    }\n",
       "</style>\n",
       "<table border=\"1\" class=\"dataframe\">\n",
       "  <thead>\n",
       "    <tr style=\"text-align: right;\">\n",
       "      <th></th>\n",
       "      <th>Id</th>\n",
       "      <th>ProductId</th>\n",
       "      <th>UserId</th>\n",
       "      <th>ProfileName</th>\n",
       "      <th>HelpfulnessNumerator</th>\n",
       "      <th>HelpfulnessDenominator</th>\n",
       "      <th>Score</th>\n",
       "      <th>Time</th>\n",
       "      <th>Summary</th>\n",
       "      <th>Text</th>\n",
       "      <th>Polarity</th>\n",
       "    </tr>\n",
       "  </thead>\n",
       "  <tbody>\n",
       "    <tr>\n",
       "      <th>0</th>\n",
       "      <td>1</td>\n",
       "      <td>B001E4KFG0</td>\n",
       "      <td>A3SGXH7AUHU8GW</td>\n",
       "      <td>delmartian</td>\n",
       "      <td>1</td>\n",
       "      <td>1</td>\n",
       "      <td>5</td>\n",
       "      <td>1303862400</td>\n",
       "      <td>Good Quality Dog Food</td>\n",
       "      <td>I have bought several of the Vitality canned d...</td>\n",
       "      <td>0.7</td>\n",
       "    </tr>\n",
       "    <tr>\n",
       "      <th>1</th>\n",
       "      <td>2</td>\n",
       "      <td>B00813GRG4</td>\n",
       "      <td>A1D87F6ZCVE5NK</td>\n",
       "      <td>dll pa</td>\n",
       "      <td>0</td>\n",
       "      <td>0</td>\n",
       "      <td>1</td>\n",
       "      <td>1346976000</td>\n",
       "      <td>Not as Advertised</td>\n",
       "      <td>Product arrived labeled as Jumbo Salted Peanut...</td>\n",
       "      <td>0.0</td>\n",
       "    </tr>\n",
       "    <tr>\n",
       "      <th>2</th>\n",
       "      <td>3</td>\n",
       "      <td>B000LQOCH0</td>\n",
       "      <td>ABXLMWJIXXAIN</td>\n",
       "      <td>Natalia Corres \"Natalia Corres\"</td>\n",
       "      <td>1</td>\n",
       "      <td>1</td>\n",
       "      <td>4</td>\n",
       "      <td>1219017600</td>\n",
       "      <td>\"Delight\" says it all</td>\n",
       "      <td>This is a confection that has been around a fe...</td>\n",
       "      <td>0.0</td>\n",
       "    </tr>\n",
       "    <tr>\n",
       "      <th>3</th>\n",
       "      <td>4</td>\n",
       "      <td>B000UA0QIQ</td>\n",
       "      <td>A395BORC6FGVXV</td>\n",
       "      <td>Karl</td>\n",
       "      <td>3</td>\n",
       "      <td>3</td>\n",
       "      <td>2</td>\n",
       "      <td>1307923200</td>\n",
       "      <td>Cough Medicine</td>\n",
       "      <td>If you are looking for the secret ingredient i...</td>\n",
       "      <td>0.0</td>\n",
       "    </tr>\n",
       "    <tr>\n",
       "      <th>4</th>\n",
       "      <td>5</td>\n",
       "      <td>B006K2ZZ7K</td>\n",
       "      <td>A1UQRSCLF8GW1T</td>\n",
       "      <td>Michael D. Bigham \"M. Wassir\"</td>\n",
       "      <td>0</td>\n",
       "      <td>0</td>\n",
       "      <td>5</td>\n",
       "      <td>1350777600</td>\n",
       "      <td>Great taffy</td>\n",
       "      <td>Great taffy at a great price.  There was a wid...</td>\n",
       "      <td>0.8</td>\n",
       "    </tr>\n",
       "  </tbody>\n",
       "</table>\n",
       "</div>"
      ],
      "text/plain": [
       "   Id   ProductId          UserId                      ProfileName  \\\n",
       "0   1  B001E4KFG0  A3SGXH7AUHU8GW                       delmartian   \n",
       "1   2  B00813GRG4  A1D87F6ZCVE5NK                           dll pa   \n",
       "2   3  B000LQOCH0   ABXLMWJIXXAIN  Natalia Corres \"Natalia Corres\"   \n",
       "3   4  B000UA0QIQ  A395BORC6FGVXV                             Karl   \n",
       "4   5  B006K2ZZ7K  A1UQRSCLF8GW1T    Michael D. Bigham \"M. Wassir\"   \n",
       "\n",
       "   HelpfulnessNumerator  HelpfulnessDenominator  Score        Time  \\\n",
       "0                     1                       1      5  1303862400   \n",
       "1                     0                       0      1  1346976000   \n",
       "2                     1                       1      4  1219017600   \n",
       "3                     3                       3      2  1307923200   \n",
       "4                     0                       0      5  1350777600   \n",
       "\n",
       "                 Summary                                               Text  \\\n",
       "0  Good Quality Dog Food  I have bought several of the Vitality canned d...   \n",
       "1      Not as Advertised  Product arrived labeled as Jumbo Salted Peanut...   \n",
       "2  \"Delight\" says it all  This is a confection that has been around a fe...   \n",
       "3         Cough Medicine  If you are looking for the secret ingredient i...   \n",
       "4            Great taffy  Great taffy at a great price.  There was a wid...   \n",
       "\n",
       "   Polarity  \n",
       "0       0.7  \n",
       "1       0.0  \n",
       "2       0.0  \n",
       "3       0.0  \n",
       "4       0.8  "
      ]
     },
     "execution_count": 19,
     "metadata": {},
     "output_type": "execute_result"
    }
   ],
   "source": [
    "data.head()"
   ]
  },
  {
   "cell_type": "markdown",
   "id": "c33e04df",
   "metadata": {},
   "source": [
    "# Perform Exploratory Data Analysis for the Positive Sentences"
   ]
  },
  {
   "cell_type": "code",
   "execution_count": 20,
   "id": "5c2156d1",
   "metadata": {},
   "outputs": [
    {
     "name": "stdout",
     "output_type": "stream",
     "text": [
      "Requirement already satisfied: wordcloud in c:\\users\\user\\anaconda3\\lib\\site-packages (1.8.1)\n",
      "Requirement already satisfied: matplotlib in c:\\users\\user\\anaconda3\\lib\\site-packages (from wordcloud) (3.3.4)\n",
      "Requirement already satisfied: numpy>=1.6.1 in c:\\users\\user\\anaconda3\\lib\\site-packages (from wordcloud) (1.20.2)\n",
      "Requirement already satisfied: pillow in c:\\users\\user\\anaconda3\\lib\\site-packages (from wordcloud) (8.2.0)\n",
      "Requirement already satisfied: kiwisolver>=1.0.1 in c:\\users\\user\\anaconda3\\lib\\site-packages (from matplotlib->wordcloud) (1.3.1)\n",
      "Requirement already satisfied: pyparsing!=2.0.4,!=2.1.2,!=2.1.6,>=2.0.3 in c:\\users\\user\\anaconda3\\lib\\site-packages (from matplotlib->wordcloud) (2.4.7)\n",
      "Requirement already satisfied: cycler>=0.10 in c:\\users\\user\\anaconda3\\lib\\site-packages (from matplotlib->wordcloud) (0.10.0)\n",
      "Requirement already satisfied: python-dateutil>=2.1 in c:\\users\\user\\anaconda3\\lib\\site-packages (from matplotlib->wordcloud) (2.8.1)\n",
      "Requirement already satisfied: six in c:\\users\\user\\anaconda3\\lib\\site-packages (from cycler>=0.10->matplotlib->wordcloud) (1.15.0)\n"
     ]
    }
   ],
   "source": [
    "#Install the necessary modules and packages\n",
    "!pip install wordcloud\n",
    "from wordcloud import WordCloud,STOPWORDS  #Be VERY CAREFUL, it is \"WordCloud\" and not \"wordcloud\" after the import functioin\n",
    "import re                                  #useful in cleaning and modifying text data"
   ]
  },
  {
   "cell_type": "code",
   "execution_count": 21,
   "id": "33c64fdd",
   "metadata": {},
   "outputs": [],
   "source": [
    "#IMPORTANT!!!!\n",
    "stopwords = set(STOPWORDS)"
   ]
  },
  {
   "cell_type": "code",
   "execution_count": 22,
   "id": "e0dc63a4",
   "metadata": {},
   "outputs": [],
   "source": [
    "#create a separate dataframe for the rows with positive polarity i.e polarity > 0\n",
    "data_positive = data[data['Polarity']>0]"
   ]
  },
  {
   "cell_type": "code",
   "execution_count": 23,
   "id": "c9e85180",
   "metadata": {},
   "outputs": [
    {
     "data": {
      "text/html": [
       "<div>\n",
       "<style scoped>\n",
       "    .dataframe tbody tr th:only-of-type {\n",
       "        vertical-align: middle;\n",
       "    }\n",
       "\n",
       "    .dataframe tbody tr th {\n",
       "        vertical-align: top;\n",
       "    }\n",
       "\n",
       "    .dataframe thead th {\n",
       "        text-align: right;\n",
       "    }\n",
       "</style>\n",
       "<table border=\"1\" class=\"dataframe\">\n",
       "  <thead>\n",
       "    <tr style=\"text-align: right;\">\n",
       "      <th></th>\n",
       "      <th>Id</th>\n",
       "      <th>ProductId</th>\n",
       "      <th>UserId</th>\n",
       "      <th>ProfileName</th>\n",
       "      <th>HelpfulnessNumerator</th>\n",
       "      <th>HelpfulnessDenominator</th>\n",
       "      <th>Score</th>\n",
       "      <th>Time</th>\n",
       "      <th>Summary</th>\n",
       "      <th>Text</th>\n",
       "      <th>Polarity</th>\n",
       "    </tr>\n",
       "  </thead>\n",
       "  <tbody>\n",
       "    <tr>\n",
       "      <th>0</th>\n",
       "      <td>1</td>\n",
       "      <td>B001E4KFG0</td>\n",
       "      <td>A3SGXH7AUHU8GW</td>\n",
       "      <td>delmartian</td>\n",
       "      <td>1</td>\n",
       "      <td>1</td>\n",
       "      <td>5</td>\n",
       "      <td>1303862400</td>\n",
       "      <td>Good Quality Dog Food</td>\n",
       "      <td>I have bought several of the Vitality canned d...</td>\n",
       "      <td>0.700000</td>\n",
       "    </tr>\n",
       "    <tr>\n",
       "      <th>4</th>\n",
       "      <td>5</td>\n",
       "      <td>B006K2ZZ7K</td>\n",
       "      <td>A1UQRSCLF8GW1T</td>\n",
       "      <td>Michael D. Bigham \"M. Wassir\"</td>\n",
       "      <td>0</td>\n",
       "      <td>0</td>\n",
       "      <td>5</td>\n",
       "      <td>1350777600</td>\n",
       "      <td>Great taffy</td>\n",
       "      <td>Great taffy at a great price.  There was a wid...</td>\n",
       "      <td>0.800000</td>\n",
       "    </tr>\n",
       "    <tr>\n",
       "      <th>5</th>\n",
       "      <td>6</td>\n",
       "      <td>B006K2ZZ7K</td>\n",
       "      <td>ADT0SRK1MGOEU</td>\n",
       "      <td>Twoapennything</td>\n",
       "      <td>0</td>\n",
       "      <td>0</td>\n",
       "      <td>4</td>\n",
       "      <td>1342051200</td>\n",
       "      <td>Nice Taffy</td>\n",
       "      <td>I got a wild hair for taffy and ordered this f...</td>\n",
       "      <td>0.600000</td>\n",
       "    </tr>\n",
       "    <tr>\n",
       "      <th>6</th>\n",
       "      <td>7</td>\n",
       "      <td>B006K2ZZ7K</td>\n",
       "      <td>A1SP2KVKFXXRU1</td>\n",
       "      <td>David C. Sullivan</td>\n",
       "      <td>0</td>\n",
       "      <td>0</td>\n",
       "      <td>5</td>\n",
       "      <td>1340150400</td>\n",
       "      <td>Great!  Just as good as the expensive brands!</td>\n",
       "      <td>This saltwater taffy had great flavors and was...</td>\n",
       "      <td>0.358333</td>\n",
       "    </tr>\n",
       "    <tr>\n",
       "      <th>7</th>\n",
       "      <td>8</td>\n",
       "      <td>B006K2ZZ7K</td>\n",
       "      <td>A3JRGQVEQN31IQ</td>\n",
       "      <td>Pamela G. Williams</td>\n",
       "      <td>0</td>\n",
       "      <td>0</td>\n",
       "      <td>5</td>\n",
       "      <td>1336003200</td>\n",
       "      <td>Wonderful, tasty taffy</td>\n",
       "      <td>This taffy is so good.  It is very soft and ch...</td>\n",
       "      <td>1.000000</td>\n",
       "    </tr>\n",
       "  </tbody>\n",
       "</table>\n",
       "</div>"
      ],
      "text/plain": [
       "   Id   ProductId          UserId                    ProfileName  \\\n",
       "0   1  B001E4KFG0  A3SGXH7AUHU8GW                     delmartian   \n",
       "4   5  B006K2ZZ7K  A1UQRSCLF8GW1T  Michael D. Bigham \"M. Wassir\"   \n",
       "5   6  B006K2ZZ7K   ADT0SRK1MGOEU                 Twoapennything   \n",
       "6   7  B006K2ZZ7K  A1SP2KVKFXXRU1              David C. Sullivan   \n",
       "7   8  B006K2ZZ7K  A3JRGQVEQN31IQ             Pamela G. Williams   \n",
       "\n",
       "   HelpfulnessNumerator  HelpfulnessDenominator  Score        Time  \\\n",
       "0                     1                       1      5  1303862400   \n",
       "4                     0                       0      5  1350777600   \n",
       "5                     0                       0      4  1342051200   \n",
       "6                     0                       0      5  1340150400   \n",
       "7                     0                       0      5  1336003200   \n",
       "\n",
       "                                         Summary  \\\n",
       "0                          Good Quality Dog Food   \n",
       "4                                    Great taffy   \n",
       "5                                     Nice Taffy   \n",
       "6  Great!  Just as good as the expensive brands!   \n",
       "7                         Wonderful, tasty taffy   \n",
       "\n",
       "                                                Text  Polarity  \n",
       "0  I have bought several of the Vitality canned d...  0.700000  \n",
       "4  Great taffy at a great price.  There was a wid...  0.800000  \n",
       "5  I got a wild hair for taffy and ordered this f...  0.600000  \n",
       "6  This saltwater taffy had great flavors and was...  0.358333  \n",
       "7  This taffy is so good.  It is very soft and ch...  1.000000  "
      ]
     },
     "execution_count": 23,
     "metadata": {},
     "output_type": "execute_result"
    }
   ],
   "source": [
    "data_positive.head()"
   ]
  },
  {
   "cell_type": "code",
   "execution_count": 24,
   "id": "0a69317d",
   "metadata": {},
   "outputs": [],
   "source": [
    "#Create a single variable with all the summaries so as to make the removal of STOPWORDS faster\n",
    "total_text = (' '.join(data_positive['Summary']))"
   ]
  },
  {
   "cell_type": "code",
   "execution_count": 25,
   "id": "1c668643",
   "metadata": {},
   "outputs": [
    {
     "data": {
      "text/plain": [
       "'Good Quality Dog Food Great taffy Nice Taffy Great!  Just as good as the expensive brands! Wonderful, tasty taffy Healthy Dog Food The Best Hot Sauce in the World My cats LOVE this \"diet\" food better than their regular food My Cats Are Not Fans of the New Food fresh and greasy! Love it! GREAT SWEET CANDY! Always fresh Delicious product! Great Bargain for the Price The Best Hot Sauce in the World Great machine! Best of the Instant Oatmeals Good Instant Great Irish oatmeal for those in a hurry! satisfying Love Gluten Free Oatmeal!!! GOOD WAY TO START THE DAY.... Wife\\'s favorite Breakfast Why wouldn\\'t you buy oatmeal from Mcanns? Tastes great! Good Hot Breakfast Great taste and convenience good Very good but next time I won\\'t order the Variety Pack HOT!  And good!  Came back for more  :) Roasts up a smooth brew Our guests love it! Awesome Deal! Awsome - Kids in neighborhood loved us! great deal. Better price for this at Target great source of electrolytes Great for preventing cramps Taste'"
      ]
     },
     "execution_count": 25,
     "metadata": {},
     "output_type": "execute_result"
    }
   ],
   "source": [
    "total_text[0:1000]"
   ]
  },
  {
   "cell_type": "code",
   "execution_count": 26,
   "id": "77b2f83b",
   "metadata": {},
   "outputs": [],
   "source": [
    "#substitute every symbol(!\"\\'.) except(^) a-z with space in the variable \"total_text\"\n",
    "total_text = re.sub('[^a-zA-Z]', ' ', total_text)"
   ]
  },
  {
   "cell_type": "code",
   "execution_count": 27,
   "id": "7b774cb3",
   "metadata": {},
   "outputs": [
    {
     "data": {
      "text/plain": [
       "'Good Quality Dog Food Great taffy Nice Taffy Great   Just as good as the expensive brands  Wonderful  tasty taffy Healthy Dog Food The Best Hot Sauce in the World My cats LOVE this  diet  food better than their regular food My Cats Are Not Fans of the New Food fresh and greasy  Love it  GREAT SWEET CANDY  Always fresh Delicious product  Great Bargain for the Price The Best Hot Sauce in the World Great machine  Best of the Instant Oatmeals Good Instant Great Irish oatmeal for those in a hurry  satisfying Love Gluten Free Oatmeal    GOOD WAY TO START THE DAY     Wife s favorite Breakfast Why wouldn t you buy oatmeal from Mcanns  Tastes great  Good Hot Breakfast Great taste and convenience good Very good but next time I won t order the Variety Pack HOT   And good   Came back for more     Roasts up a smooth brew Our guests love it  Awesome Deal  Awsome   Kids in neighborhood loved us  great deal  Better price for this at Target great source of electrolytes Great for preventing cramps Taste'"
      ]
     },
     "execution_count": 27,
     "metadata": {},
     "output_type": "execute_result"
    }
   ],
   "source": [
    "total_text[0:1000]"
   ]
  },
  {
   "cell_type": "code",
   "execution_count": 28,
   "id": "632bacfc",
   "metadata": {},
   "outputs": [],
   "source": [
    "#Remove excess spacing\n",
    "total_text = re.sub(' +', ' ', total_text)"
   ]
  },
  {
   "cell_type": "code",
   "execution_count": 29,
   "id": "5027f1d3",
   "metadata": {},
   "outputs": [
    {
     "data": {
      "text/plain": [
       "'Good Quality Dog Food Great taffy Nice Taffy Great Just as good as the expensive brands Wonderful tasty taffy Healthy Dog Food The Best Hot Sauce in the World My cats LOVE this diet food better than their regular food My Cats Are Not Fans of the New Food fresh and greasy Love it GREAT SWEET CANDY Always fresh Delicious product Great Bargain for the Price The Best Hot Sauce in the World Great machine Best of the Instant Oatmeals Good Instant Great Irish oatmeal for those in a hurry satisfying Love Gluten Free Oatmeal GOOD WAY TO START THE DAY Wife s favorite Breakfast Why wouldn t you buy oatmeal from Mcanns Tastes great Good Hot Breakfast Great taste and convenience good Very good but next time I won t order the Variety Pack HOT And good Came back for more Roasts up a smooth brew Our guests love it Awesome Deal Awsome Kids in neighborhood loved us great deal Better price for this at Target great source of electrolytes Great for preventing cramps Taste is not so good How much would you '"
      ]
     },
     "execution_count": 29,
     "metadata": {},
     "output_type": "execute_result"
    }
   ],
   "source": [
    "total_text[0:1000]"
   ]
  },
  {
   "cell_type": "markdown",
   "id": "b92de1fd",
   "metadata": {},
   "source": [
    "### Find popular words i.e words that occur regularly"
   ]
  },
  {
   "cell_type": "code",
   "execution_count": 30,
   "id": "661c0008",
   "metadata": {},
   "outputs": [
    {
     "data": {
      "text/plain": [
       "(-0.5, 999.5, 499.5, -0.5)"
      ]
     },
     "execution_count": 30,
     "metadata": {},
     "output_type": "execute_result"
    },
    {
     "data": {
      "image/png": "[encoded data removed]",
      "text/plain": [
       "<Figure size 1080x360 with 1 Axes>"
      ]
     },
     "metadata": {
      "needs_background": "light"
     },
     "output_type": "display_data"
    }
   ],
   "source": [
    "wordcloud = WordCloud(width=1000, height=500, stopwords=stopwords).generate(total_text)\n",
    "\n",
    "plt.figure(figsize=(15,5))\n",
    "plt.imshow(wordcloud)\n",
    "plt.axis('off') #to remove the axis number from showing"
   ]
  },
  {
   "cell_type": "markdown",
   "id": "8025f5fd",
   "metadata": {},
   "source": [
    "# Perform Exploratory Data Analysis for the Negative Sentences"
   ]
  },
  {
   "cell_type": "code",
   "execution_count": 31,
   "id": "ded7fb49",
   "metadata": {},
   "outputs": [],
   "source": [
    "#create a separate dataframe for the rows with negative polarity i.e polarity < 0\n",
    "data_negative = data[data['Polarity']<0]"
   ]
  },
  {
   "cell_type": "code",
   "execution_count": 32,
   "id": "e1e4c0bf",
   "metadata": {},
   "outputs": [
    {
     "data": {
      "text/html": [
       "<div>\n",
       "<style scoped>\n",
       "    .dataframe tbody tr th:only-of-type {\n",
       "        vertical-align: middle;\n",
       "    }\n",
       "\n",
       "    .dataframe tbody tr th {\n",
       "        vertical-align: top;\n",
       "    }\n",
       "\n",
       "    .dataframe thead th {\n",
       "        text-align: right;\n",
       "    }\n",
       "</style>\n",
       "<table border=\"1\" class=\"dataframe\">\n",
       "  <thead>\n",
       "    <tr style=\"text-align: right;\">\n",
       "      <th></th>\n",
       "      <th>Id</th>\n",
       "      <th>ProductId</th>\n",
       "      <th>UserId</th>\n",
       "      <th>ProfileName</th>\n",
       "      <th>HelpfulnessNumerator</th>\n",
       "      <th>HelpfulnessDenominator</th>\n",
       "      <th>Score</th>\n",
       "      <th>Time</th>\n",
       "      <th>Summary</th>\n",
       "      <th>Text</th>\n",
       "      <th>Polarity</th>\n",
       "    </tr>\n",
       "  </thead>\n",
       "  <tbody>\n",
       "    <tr>\n",
       "      <th>16</th>\n",
       "      <td>17</td>\n",
       "      <td>B001GVISJM</td>\n",
       "      <td>A3KLWF6WQ5BNYO</td>\n",
       "      <td>Erica Neathery</td>\n",
       "      <td>0</td>\n",
       "      <td>0</td>\n",
       "      <td>2</td>\n",
       "      <td>1348099200</td>\n",
       "      <td>poor taste</td>\n",
       "      <td>I love eating them and they are good for watch...</td>\n",
       "      <td>-0.400</td>\n",
       "    </tr>\n",
       "    <tr>\n",
       "      <th>26</th>\n",
       "      <td>27</td>\n",
       "      <td>B001GVISJM</td>\n",
       "      <td>A3RXAU2N8KV45G</td>\n",
       "      <td>lady21</td>\n",
       "      <td>0</td>\n",
       "      <td>1</td>\n",
       "      <td>1</td>\n",
       "      <td>1332633600</td>\n",
       "      <td>Nasty No flavor</td>\n",
       "      <td>The candy is just red , No flavor . Just  plan...</td>\n",
       "      <td>-1.000</td>\n",
       "    </tr>\n",
       "    <tr>\n",
       "      <th>57</th>\n",
       "      <td>58</td>\n",
       "      <td>B004N5KULM</td>\n",
       "      <td>ASCNNAJU6SXF8</td>\n",
       "      <td>S. Beck</td>\n",
       "      <td>1</td>\n",
       "      <td>1</td>\n",
       "      <td>5</td>\n",
       "      <td>1336176000</td>\n",
       "      <td>How can you go wrong!</td>\n",
       "      <td>It is chocolate, what can I say.  Great variet...</td>\n",
       "      <td>-0.625</td>\n",
       "    </tr>\n",
       "    <tr>\n",
       "      <th>61</th>\n",
       "      <td>62</td>\n",
       "      <td>B004N5KULM</td>\n",
       "      <td>A7ZK2A3VIW7X9</td>\n",
       "      <td>Peggy</td>\n",
       "      <td>0</td>\n",
       "      <td>2</td>\n",
       "      <td>5</td>\n",
       "      <td>1319414400</td>\n",
       "      <td>pretty expensive</td>\n",
       "      <td>This bag of candy online is pretty expensive, ...</td>\n",
       "      <td>-0.125</td>\n",
       "    </tr>\n",
       "    <tr>\n",
       "      <th>62</th>\n",
       "      <td>63</td>\n",
       "      <td>B001EO5TPM</td>\n",
       "      <td>A1E09XGZUR78C6</td>\n",
       "      <td>gary sturrock</td>\n",
       "      <td>2</td>\n",
       "      <td>2</td>\n",
       "      <td>1</td>\n",
       "      <td>1215302400</td>\n",
       "      <td>stale product.</td>\n",
       "      <td>Arrived in 6 days and were so stale i could no...</td>\n",
       "      <td>-0.500</td>\n",
       "    </tr>\n",
       "  </tbody>\n",
       "</table>\n",
       "</div>"
      ],
      "text/plain": [
       "    Id   ProductId          UserId     ProfileName  HelpfulnessNumerator  \\\n",
       "16  17  B001GVISJM  A3KLWF6WQ5BNYO  Erica Neathery                     0   \n",
       "26  27  B001GVISJM  A3RXAU2N8KV45G          lady21                     0   \n",
       "57  58  B004N5KULM   ASCNNAJU6SXF8         S. Beck                     1   \n",
       "61  62  B004N5KULM   A7ZK2A3VIW7X9           Peggy                     0   \n",
       "62  63  B001EO5TPM  A1E09XGZUR78C6   gary sturrock                     2   \n",
       "\n",
       "    HelpfulnessDenominator  Score        Time                Summary  \\\n",
       "16                       0      2  1348099200             poor taste   \n",
       "26                       1      1  1332633600        Nasty No flavor   \n",
       "57                       1      5  1336176000  How can you go wrong!   \n",
       "61                       2      5  1319414400       pretty expensive   \n",
       "62                       2      1  1215302400         stale product.   \n",
       "\n",
       "                                                 Text  Polarity  \n",
       "16  I love eating them and they are good for watch...    -0.400  \n",
       "26  The candy is just red , No flavor . Just  plan...    -1.000  \n",
       "57  It is chocolate, what can I say.  Great variet...    -0.625  \n",
       "61  This bag of candy online is pretty expensive, ...    -0.125  \n",
       "62  Arrived in 6 days and were so stale i could no...    -0.500  "
      ]
     },
     "execution_count": 32,
     "metadata": {},
     "output_type": "execute_result"
    }
   ],
   "source": [
    "data_negative.head()"
   ]
  },
  {
   "cell_type": "code",
   "execution_count": 33,
   "id": "5bb2be1b",
   "metadata": {},
   "outputs": [],
   "source": [
    "#Create a single variable with all the summaries so as to make the removal of STOPWORDS faster\n",
    "total_text2 = (' '.join(data_negative['Summary']))"
   ]
  },
  {
   "cell_type": "code",
   "execution_count": 34,
   "id": "e7c5b814",
   "metadata": {},
   "outputs": [
    {
     "data": {
      "text/plain": [
       "\"poor taste Nasty No flavor How can you go wrong! pretty expensive stale product. Bigger then other brands Order only in cold weather Bad disappointing My every day green tea BROKEN BOTTLE BOTTOMS! Tasteless but low calorie Marley's Mellow Mood Lite - Half Tea Half Lemonade Nearly killed the cats CHANGED FORMULA MAKES CATS SICK!!!! Not a real tea Mcclures bloody Mary mix Not Good Eukanuba puppy small breed dog food My everyday cup of Tea Disappointed Sad outcome Don't Waste Your Money Disappointed! sugar in the raw Good product but terrible agricultural practices Sugar in the raw Sugar in the raw too expensive Not sure So awful I can barely describe AWFUL Bitter A saving grace for Green Mountain Coffee... Fantastic Chicken Noodle soup Heinz no more! Disappointing Waste of money Ham Base MSG Ham Base Love the product disappointed in the shipping. poor item packaging Awful disappointing Hard a slight taste of jalapeno Heavy on the Vinegar These chips make me weak at the knees Not bad but \""
      ]
     },
     "execution_count": 34,
     "metadata": {},
     "output_type": "execute_result"
    }
   ],
   "source": [
    "total_text2[0:1000]"
   ]
  },
  {
   "cell_type": "code",
   "execution_count": 35,
   "id": "d356e064",
   "metadata": {},
   "outputs": [],
   "source": [
    "#substitute every symbol(!\"\\'.) except(^) a-z with space in the variable \"total_text2\"\n",
    "total_text2 = re.sub('[^a-zA-Z]', ' ', total_text2)"
   ]
  },
  {
   "cell_type": "code",
   "execution_count": 36,
   "id": "6710d146",
   "metadata": {},
   "outputs": [
    {
     "data": {
      "text/plain": [
       "'poor taste Nasty No flavor How can you go wrong  pretty expensive stale product  Bigger then other brands Order only in cold weather Bad disappointing My every day green tea BROKEN BOTTLE BOTTOMS  Tasteless but low calorie Marley s Mellow Mood Lite   Half Tea Half Lemonade Nearly killed the cats CHANGED FORMULA MAKES CATS SICK     Not a real tea Mcclures bloody Mary mix Not Good Eukanuba puppy small breed dog food My everyday cup of Tea Disappointed Sad outcome Don t Waste Your Money Disappointed  sugar in the raw Good product but terrible agricultural practices Sugar in the raw Sugar in the raw too expensive Not sure So awful I can barely describe AWFUL Bitter A saving grace for Green Mountain Coffee    Fantastic Chicken Noodle soup Heinz no more  Disappointing Waste of money Ham Base MSG Ham Base Love the product disappointed in the shipping  poor item packaging Awful disappointing Hard a slight taste of jalapeno Heavy on the Vinegar These chips make me weak at the knees Not bad but '"
      ]
     },
     "execution_count": 36,
     "metadata": {},
     "output_type": "execute_result"
    }
   ],
   "source": [
    "total_text2[0:1000]"
   ]
  },
  {
   "cell_type": "code",
   "execution_count": 37,
   "id": "3ad66782",
   "metadata": {},
   "outputs": [],
   "source": [
    "#Remove excess spacing\n",
    "total_text2 = re.sub(' +', ' ', total_text2)"
   ]
  },
  {
   "cell_type": "code",
   "execution_count": 38,
   "id": "a91030c5",
   "metadata": {},
   "outputs": [
    {
     "data": {
      "text/plain": [
       "'poor taste Nasty No flavor How can you go wrong pretty expensive stale product Bigger then other brands Order only in cold weather Bad disappointing My every day green tea BROKEN BOTTLE BOTTOMS Tasteless but low calorie Marley s Mellow Mood Lite Half Tea Half Lemonade Nearly killed the cats CHANGED FORMULA MAKES CATS SICK Not a real tea Mcclures bloody Mary mix Not Good Eukanuba puppy small breed dog food My everyday cup of Tea Disappointed Sad outcome Don t Waste Your Money Disappointed sugar in the raw Good product but terrible agricultural practices Sugar in the raw Sugar in the raw too expensive Not sure So awful I can barely describe AWFUL Bitter A saving grace for Green Mountain Coffee Fantastic Chicken Noodle soup Heinz no more Disappointing Waste of money Ham Base MSG Ham Base Love the product disappointed in the shipping poor item packaging Awful disappointing Hard a slight taste of jalapeno Heavy on the Vinegar These chips make me weak at the knees Not bad but a little hard t'"
      ]
     },
     "execution_count": 38,
     "metadata": {},
     "output_type": "execute_result"
    }
   ],
   "source": [
    "total_text2[0:1000]"
   ]
  },
  {
   "cell_type": "markdown",
   "id": "f61aa640",
   "metadata": {},
   "source": [
    "### Find popular words i.e words that occur regularly"
   ]
  },
  {
   "cell_type": "code",
   "execution_count": 39,
   "id": "14640ca4",
   "metadata": {},
   "outputs": [
    {
     "data": {
      "text/plain": [
       "(-0.5, 999.5, 499.5, -0.5)"
      ]
     },
     "execution_count": 39,
     "metadata": {},
     "output_type": "execute_result"
    },
    {
     "data": {
      "image/png": "[encoded data removed]",
      "text/plain": [
       "<Figure size 1080x360 with 1 Axes>"
      ]
     },
     "metadata": {
      "needs_background": "light"
     },
     "output_type": "display_data"
    }
   ],
   "source": [
    "wordcloud2 = WordCloud(width=1000, height=500, stopwords=stopwords).generate(total_text2)\n",
    "\n",
    "plt.figure(figsize=(15,5))\n",
    "plt.imshow(wordcloud2)\n",
    "plt.axis('off') #to remove the axis number from showing"
   ]
  },
  {
   "cell_type": "markdown",
   "id": "b6c47270",
   "metadata": {},
   "source": [
    "# Analyse to what user, Amazon can recommend more products"
   ]
  },
  {
   "cell_type": "markdown",
   "id": "e4adaae3",
   "metadata": {},
   "source": [
    "### Amazon will recommend more products to users who:\n",
    "##### Buy 2 or more products\n",
    "##### Have a better conversion rate"
   ]
  },
  {
   "cell_type": "code",
   "execution_count": 40,
   "id": "ab503c9d",
   "metadata": {},
   "outputs": [
    {
     "data": {
      "text/html": [
       "<div>\n",
       "<style scoped>\n",
       "    .dataframe tbody tr th:only-of-type {\n",
       "        vertical-align: middle;\n",
       "    }\n",
       "\n",
       "    .dataframe tbody tr th {\n",
       "        vertical-align: top;\n",
       "    }\n",
       "\n",
       "    .dataframe thead th {\n",
       "        text-align: right;\n",
       "    }\n",
       "</style>\n",
       "<table border=\"1\" class=\"dataframe\">\n",
       "  <thead>\n",
       "    <tr style=\"text-align: right;\">\n",
       "      <th></th>\n",
       "      <th>Id</th>\n",
       "      <th>ProductId</th>\n",
       "      <th>UserId</th>\n",
       "      <th>ProfileName</th>\n",
       "      <th>HelpfulnessNumerator</th>\n",
       "      <th>HelpfulnessDenominator</th>\n",
       "      <th>Score</th>\n",
       "      <th>Time</th>\n",
       "      <th>Summary</th>\n",
       "      <th>Text</th>\n",
       "    </tr>\n",
       "  </thead>\n",
       "  <tbody>\n",
       "    <tr>\n",
       "      <th>0</th>\n",
       "      <td>1</td>\n",
       "      <td>B001E4KFG0</td>\n",
       "      <td>A3SGXH7AUHU8GW</td>\n",
       "      <td>delmartian</td>\n",
       "      <td>1</td>\n",
       "      <td>1</td>\n",
       "      <td>5</td>\n",
       "      <td>1303862400</td>\n",
       "      <td>Good Quality Dog Food</td>\n",
       "      <td>I have bought several of the Vitality canned d...</td>\n",
       "    </tr>\n",
       "    <tr>\n",
       "      <th>1</th>\n",
       "      <td>2</td>\n",
       "      <td>B00813GRG4</td>\n",
       "      <td>A1D87F6ZCVE5NK</td>\n",
       "      <td>dll pa</td>\n",
       "      <td>0</td>\n",
       "      <td>0</td>\n",
       "      <td>1</td>\n",
       "      <td>1346976000</td>\n",
       "      <td>Not as Advertised</td>\n",
       "      <td>Product arrived labeled as Jumbo Salted Peanut...</td>\n",
       "    </tr>\n",
       "    <tr>\n",
       "      <th>2</th>\n",
       "      <td>3</td>\n",
       "      <td>B000LQOCH0</td>\n",
       "      <td>ABXLMWJIXXAIN</td>\n",
       "      <td>Natalia Corres \"Natalia Corres\"</td>\n",
       "      <td>1</td>\n",
       "      <td>1</td>\n",
       "      <td>4</td>\n",
       "      <td>1219017600</td>\n",
       "      <td>\"Delight\" says it all</td>\n",
       "      <td>This is a confection that has been around a fe...</td>\n",
       "    </tr>\n",
       "    <tr>\n",
       "      <th>3</th>\n",
       "      <td>4</td>\n",
       "      <td>B000UA0QIQ</td>\n",
       "      <td>A395BORC6FGVXV</td>\n",
       "      <td>Karl</td>\n",
       "      <td>3</td>\n",
       "      <td>3</td>\n",
       "      <td>2</td>\n",
       "      <td>1307923200</td>\n",
       "      <td>Cough Medicine</td>\n",
       "      <td>If you are looking for the secret ingredient i...</td>\n",
       "    </tr>\n",
       "    <tr>\n",
       "      <th>4</th>\n",
       "      <td>5</td>\n",
       "      <td>B006K2ZZ7K</td>\n",
       "      <td>A1UQRSCLF8GW1T</td>\n",
       "      <td>Michael D. Bigham \"M. Wassir\"</td>\n",
       "      <td>0</td>\n",
       "      <td>0</td>\n",
       "      <td>5</td>\n",
       "      <td>1350777600</td>\n",
       "      <td>Great taffy</td>\n",
       "      <td>Great taffy at a great price.  There was a wid...</td>\n",
       "    </tr>\n",
       "  </tbody>\n",
       "</table>\n",
       "</div>"
      ],
      "text/plain": [
       "   Id   ProductId          UserId                      ProfileName  \\\n",
       "0   1  B001E4KFG0  A3SGXH7AUHU8GW                       delmartian   \n",
       "1   2  B00813GRG4  A1D87F6ZCVE5NK                           dll pa   \n",
       "2   3  B000LQOCH0   ABXLMWJIXXAIN  Natalia Corres \"Natalia Corres\"   \n",
       "3   4  B000UA0QIQ  A395BORC6FGVXV                             Karl   \n",
       "4   5  B006K2ZZ7K  A1UQRSCLF8GW1T    Michael D. Bigham \"M. Wassir\"   \n",
       "\n",
       "   HelpfulnessNumerator  HelpfulnessDenominator  Score        Time  \\\n",
       "0                     1                       1      5  1303862400   \n",
       "1                     0                       0      1  1346976000   \n",
       "2                     1                       1      4  1219017600   \n",
       "3                     3                       3      2  1307923200   \n",
       "4                     0                       0      5  1350777600   \n",
       "\n",
       "                 Summary                                               Text  \n",
       "0  Good Quality Dog Food  I have bought several of the Vitality canned d...  \n",
       "1      Not as Advertised  Product arrived labeled as Jumbo Salted Peanut...  \n",
       "2  \"Delight\" says it all  This is a confection that has been around a fe...  \n",
       "3         Cough Medicine  If you are looking for the secret ingredient i...  \n",
       "4            Great taffy  Great taffy at a great price.  There was a wid...  "
      ]
     },
     "execution_count": 40,
     "metadata": {},
     "output_type": "execute_result"
    }
   ],
   "source": [
    "df.head()"
   ]
  },
  {
   "cell_type": "code",
   "execution_count": 41,
   "id": "35517abf",
   "metadata": {},
   "outputs": [
    {
     "data": {
      "text/plain": [
       "(568454, 10)"
      ]
     },
     "execution_count": 41,
     "metadata": {},
     "output_type": "execute_result"
    }
   ],
   "source": [
    "df.shape"
   ]
  },
  {
   "cell_type": "code",
   "execution_count": 42,
   "id": "02c9746d",
   "metadata": {},
   "outputs": [
    {
     "data": {
      "text/plain": [
       "256059"
      ]
     },
     "execution_count": 42,
     "metadata": {},
     "output_type": "execute_result"
    }
   ],
   "source": [
    "# The number of unique users\n",
    "\n",
    "df['UserId'].nunique() "
   ]
  },
  {
   "cell_type": "markdown",
   "id": "5da7721d",
   "metadata": {},
   "source": [
    "##### Out of 568454 rows, there are 256059 UNIQUE users which shows that there are many people who bought more than 1 product"
   ]
  },
  {
   "cell_type": "markdown",
   "id": "5eec9122",
   "metadata": {},
   "source": [
    "### Create a table to see how often a unique ID buys from Amazon"
   ]
  },
  {
   "cell_type": "code",
   "execution_count": 43,
   "id": "e1469582",
   "metadata": {},
   "outputs": [],
   "source": [
    "raw = df.groupby('UserId').agg({'Summary': 'count', 'Text': 'count', 'Score': 'mean', 'ProductId': 'count'})"
   ]
  },
  {
   "cell_type": "code",
   "execution_count": 44,
   "id": "234cfeff",
   "metadata": {},
   "outputs": [],
   "source": [
    "raw = raw.sort_values(by='ProductId', ascending = False)"
   ]
  },
  {
   "cell_type": "code",
   "execution_count": 45,
   "id": "d16975ac",
   "metadata": {},
   "outputs": [],
   "source": [
    "raw.columns = ['Summary_no', 'Text_no', 'Score_mean', 'Purchased_product_no']"
   ]
  },
  {
   "cell_type": "code",
   "execution_count": 46,
   "id": "24190f52",
   "metadata": {},
   "outputs": [
    {
     "data": {
      "text/html": [
       "<div>\n",
       "<style scoped>\n",
       "    .dataframe tbody tr th:only-of-type {\n",
       "        vertical-align: middle;\n",
       "    }\n",
       "\n",
       "    .dataframe tbody tr th {\n",
       "        vertical-align: top;\n",
       "    }\n",
       "\n",
       "    .dataframe thead th {\n",
       "        text-align: right;\n",
       "    }\n",
       "</style>\n",
       "<table border=\"1\" class=\"dataframe\">\n",
       "  <thead>\n",
       "    <tr style=\"text-align: right;\">\n",
       "      <th></th>\n",
       "      <th>Summary_no</th>\n",
       "      <th>Text_no</th>\n",
       "      <th>Score_mean</th>\n",
       "      <th>Purchased_product_no</th>\n",
       "    </tr>\n",
       "    <tr>\n",
       "      <th>UserId</th>\n",
       "      <th></th>\n",
       "      <th></th>\n",
       "      <th></th>\n",
       "      <th></th>\n",
       "    </tr>\n",
       "  </thead>\n",
       "  <tbody>\n",
       "    <tr>\n",
       "      <th>A3OXHLG6DIBRW8</th>\n",
       "      <td>448</td>\n",
       "      <td>448</td>\n",
       "      <td>4.535714</td>\n",
       "      <td>448</td>\n",
       "    </tr>\n",
       "    <tr>\n",
       "      <th>A1YUL9PCJR3JTY</th>\n",
       "      <td>421</td>\n",
       "      <td>421</td>\n",
       "      <td>4.494062</td>\n",
       "      <td>421</td>\n",
       "    </tr>\n",
       "    <tr>\n",
       "      <th>AY12DBB0U420B</th>\n",
       "      <td>389</td>\n",
       "      <td>389</td>\n",
       "      <td>4.647815</td>\n",
       "      <td>389</td>\n",
       "    </tr>\n",
       "    <tr>\n",
       "      <th>A281NPSIMI1C2R</th>\n",
       "      <td>365</td>\n",
       "      <td>365</td>\n",
       "      <td>4.841096</td>\n",
       "      <td>365</td>\n",
       "    </tr>\n",
       "    <tr>\n",
       "      <th>A1Z54EM24Y40LL</th>\n",
       "      <td>256</td>\n",
       "      <td>256</td>\n",
       "      <td>4.453125</td>\n",
       "      <td>256</td>\n",
       "    </tr>\n",
       "  </tbody>\n",
       "</table>\n",
       "</div>"
      ],
      "text/plain": [
       "                Summary_no  Text_no  Score_mean  Purchased_product_no\n",
       "UserId                                                               \n",
       "A3OXHLG6DIBRW8         448      448    4.535714                   448\n",
       "A1YUL9PCJR3JTY         421      421    4.494062                   421\n",
       "AY12DBB0U420B          389      389    4.647815                   389\n",
       "A281NPSIMI1C2R         365      365    4.841096                   365\n",
       "A1Z54EM24Y40LL         256      256    4.453125                   256"
      ]
     },
     "execution_count": 46,
     "metadata": {},
     "output_type": "execute_result"
    }
   ],
   "source": [
    "raw.head()"
   ]
  },
  {
   "cell_type": "code",
   "execution_count": 47,
   "id": "da5ae03f",
   "metadata": {},
   "outputs": [
    {
     "data": {
      "text/plain": [
       "Index(['A3OXHLG6DIBRW8', 'A1YUL9PCJR3JTY', 'AY12DBB0U420B', 'A281NPSIMI1C2R',\n",
       "       'A1Z54EM24Y40LL', 'A1TMAVN4CEM8U8', 'A2MUGFV2TDQ47K', 'A3TVZM3ZIXG8YW',\n",
       "       'A3PJZ8TU8FDQ1K', 'AQQLWCMRNDFGI'],\n",
       "      dtype='object', name='UserId')"
      ]
     },
     "execution_count": 47,
     "metadata": {},
     "output_type": "execute_result"
    }
   ],
   "source": [
    "user_10 = raw.index[0:10]\n",
    "user_10"
   ]
  },
  {
   "cell_type": "code",
   "execution_count": 48,
   "id": "6b296f06",
   "metadata": {},
   "outputs": [],
   "source": [
    "height = raw['Purchased_product_no'][0:10]"
   ]
  },
  {
   "cell_type": "code",
   "execution_count": 49,
   "id": "bbd207ec",
   "metadata": {},
   "outputs": [
    {
     "data": {
      "text/plain": [
       "([0, 1, 2, 3, 4, 5, 6, 7, 8, 9],\n",
       " [Text(0, 0, ''),\n",
       "  Text(0, 0, ''),\n",
       "  Text(0, 0, ''),\n",
       "  Text(0, 0, ''),\n",
       "  Text(0, 0, ''),\n",
       "  Text(0, 0, ''),\n",
       "  Text(0, 0, ''),\n",
       "  Text(0, 0, ''),\n",
       "  Text(0, 0, ''),\n",
       "  Text(0, 0, '')])"
      ]
     },
     "execution_count": 49,
     "metadata": {},
     "output_type": "execute_result"
    },
    {
     "data": {
      "image/png": "[encoded data removed]",
      "text/plain": [
       "<Figure size 432x288 with 1 Axes>"
      ]
     },
     "metadata": {
      "needs_background": "light"
     },
     "output_type": "display_data"
    }
   ],
   "source": [
    "plt.bar(user_10, height)\n",
    "plt.title('Most recommended Customers')\n",
    "plt.xlabel('User_Id')\n",
    "plt.ylabel('Number of Products Produced')\n",
    "plt.xticks(rotation= 'vertical') #Convert the orientation of the xlabels to vertical to make it more legible"
   ]
  },
  {
   "cell_type": "markdown",
   "id": "6f242c9e",
   "metadata": {},
   "source": [
    "# Analyse Length of Comments whether Customers are going to give Lengthy comments or short one"
   ]
  },
  {
   "cell_type": "markdown",
   "id": "8e20ea61",
   "metadata": {},
   "source": [
    "#### As data is so huge,so if your system takes a lot for the execution , u can considered some sample of data from entire data"
   ]
  },
  {
   "cell_type": "code",
   "execution_count": 98,
   "id": "45f4c416",
   "metadata": {},
   "outputs": [],
   "source": [
    "# Pick a random sample\n",
    "final = df.sample(n = 2000)"
   ]
  },
  {
   "cell_type": "code",
   "execution_count": 99,
   "id": "7696f5ce",
   "metadata": {},
   "outputs": [
    {
     "data": {
      "text/html": [
       "<div>\n",
       "<style scoped>\n",
       "    .dataframe tbody tr th:only-of-type {\n",
       "        vertical-align: middle;\n",
       "    }\n",
       "\n",
       "    .dataframe tbody tr th {\n",
       "        vertical-align: top;\n",
       "    }\n",
       "\n",
       "    .dataframe thead th {\n",
       "        text-align: right;\n",
       "    }\n",
       "</style>\n",
       "<table border=\"1\" class=\"dataframe\">\n",
       "  <thead>\n",
       "    <tr style=\"text-align: right;\">\n",
       "      <th></th>\n",
       "      <th>Id</th>\n",
       "      <th>ProductId</th>\n",
       "      <th>UserId</th>\n",
       "      <th>ProfileName</th>\n",
       "      <th>HelpfulnessNumerator</th>\n",
       "      <th>HelpfulnessDenominator</th>\n",
       "      <th>Score</th>\n",
       "      <th>Time</th>\n",
       "      <th>Summary</th>\n",
       "      <th>Text</th>\n",
       "    </tr>\n",
       "  </thead>\n",
       "  <tbody>\n",
       "    <tr>\n",
       "      <th>451490</th>\n",
       "      <td>451491</td>\n",
       "      <td>B000QU3JM0</td>\n",
       "      <td>AOOGACWQSEJDU</td>\n",
       "      <td>Red</td>\n",
       "      <td>0</td>\n",
       "      <td>1</td>\n",
       "      <td>4</td>\n",
       "      <td>1335052800</td>\n",
       "      <td>Not bad</td>\n",
       "      <td>not the best, but it has all the  right flavor...</td>\n",
       "    </tr>\n",
       "    <tr>\n",
       "      <th>89562</th>\n",
       "      <td>89563</td>\n",
       "      <td>B002LANN56</td>\n",
       "      <td>A23R3EOZ837242</td>\n",
       "      <td>Colin Brown \"Colin Brown Microsoft MVP\"</td>\n",
       "      <td>0</td>\n",
       "      <td>0</td>\n",
       "      <td>4</td>\n",
       "      <td>1347235200</td>\n",
       "      <td>Dog loves it</td>\n",
       "      <td>It's a little hard to write a review on a prod...</td>\n",
       "    </tr>\n",
       "    <tr>\n",
       "      <th>242820</th>\n",
       "      <td>242821</td>\n",
       "      <td>B0009YF43U</td>\n",
       "      <td>A7Y9MP7H8LYUE</td>\n",
       "      <td>K. E. Steelman \"mommarock\"</td>\n",
       "      <td>0</td>\n",
       "      <td>0</td>\n",
       "      <td>4</td>\n",
       "      <td>1284681600</td>\n",
       "      <td>Great Treats for Clicker Training</td>\n",
       "      <td>I tried these treats after the success I had w...</td>\n",
       "    </tr>\n",
       "    <tr>\n",
       "      <th>216511</th>\n",
       "      <td>216512</td>\n",
       "      <td>B0039556K2</td>\n",
       "      <td>A29OJLIQ46MGKX</td>\n",
       "      <td>Kelly M. Dunn \"newmommy\"</td>\n",
       "      <td>0</td>\n",
       "      <td>0</td>\n",
       "      <td>5</td>\n",
       "      <td>1316131200</td>\n",
       "      <td>Drinking Dessert</td>\n",
       "      <td>The best tasting K-Cups out there. It is like ...</td>\n",
       "    </tr>\n",
       "    <tr>\n",
       "      <th>231869</th>\n",
       "      <td>231870</td>\n",
       "      <td>B004IS56YA</td>\n",
       "      <td>A2LTAUPEH82UQ5</td>\n",
       "      <td>kestela</td>\n",
       "      <td>0</td>\n",
       "      <td>0</td>\n",
       "      <td>5</td>\n",
       "      <td>1350777600</td>\n",
       "      <td>LOVE,LOVE,LOVE THEM!</td>\n",
       "      <td>These may be the best popcorn/ chips I've ever...</td>\n",
       "    </tr>\n",
       "  </tbody>\n",
       "</table>\n",
       "</div>"
      ],
      "text/plain": [
       "            Id   ProductId          UserId  \\\n",
       "451490  451491  B000QU3JM0   AOOGACWQSEJDU   \n",
       "89562    89563  B002LANN56  A23R3EOZ837242   \n",
       "242820  242821  B0009YF43U   A7Y9MP7H8LYUE   \n",
       "216511  216512  B0039556K2  A29OJLIQ46MGKX   \n",
       "231869  231870  B004IS56YA  A2LTAUPEH82UQ5   \n",
       "\n",
       "                                    ProfileName  HelpfulnessNumerator  \\\n",
       "451490                                      Red                     0   \n",
       "89562   Colin Brown \"Colin Brown Microsoft MVP\"                     0   \n",
       "242820               K. E. Steelman \"mommarock\"                     0   \n",
       "216511                 Kelly M. Dunn \"newmommy\"                     0   \n",
       "231869                                  kestela                     0   \n",
       "\n",
       "        HelpfulnessDenominator  Score        Time  \\\n",
       "451490                       1      4  1335052800   \n",
       "89562                        0      4  1347235200   \n",
       "242820                       0      4  1284681600   \n",
       "216511                       0      5  1316131200   \n",
       "231869                       0      5  1350777600   \n",
       "\n",
       "                                  Summary  \\\n",
       "451490                            Not bad   \n",
       "89562                        Dog loves it   \n",
       "242820  Great Treats for Clicker Training   \n",
       "216511                   Drinking Dessert   \n",
       "231869               LOVE,LOVE,LOVE THEM!   \n",
       "\n",
       "                                                     Text  \n",
       "451490  not the best, but it has all the  right flavor...  \n",
       "89562   It's a little hard to write a review on a prod...  \n",
       "242820  I tried these treats after the success I had w...  \n",
       "216511  The best tasting K-Cups out there. It is like ...  \n",
       "231869  These may be the best popcorn/ chips I've ever...  "
      ]
     },
     "execution_count": 99,
     "metadata": {},
     "output_type": "execute_result"
    }
   ],
   "source": [
    "final.head()"
   ]
  },
  {
   "cell_type": "code",
   "execution_count": 121,
   "id": "fe5f6ae4",
   "metadata": {},
   "outputs": [],
   "source": [
    "final=df[0:2000]"
   ]
  },
  {
   "cell_type": "markdown",
   "id": "11b500f9",
   "metadata": {},
   "source": [
    "#### check missing values in dataset"
   ]
  },
  {
   "cell_type": "code",
   "execution_count": 55,
   "id": "ccf91d65",
   "metadata": {},
   "outputs": [
    {
     "data": {
      "text/plain": [
       "Id                        0\n",
       "ProductId                 0\n",
       "UserId                    0\n",
       "ProfileName               0\n",
       "HelpfulnessNumerator      0\n",
       "HelpfulnessDenominator    0\n",
       "Score                     0\n",
       "Time                      0\n",
       "Summary                   0\n",
       "Text                      0\n",
       "dtype: int64"
      ]
     },
     "execution_count": 55,
     "metadata": {},
     "output_type": "execute_result"
    }
   ],
   "source": [
    "final.isnull().sum()"
   ]
  },
  {
   "cell_type": "markdown",
   "id": "6aaf9328",
   "metadata": {},
   "source": [
    "#### check for data duplicates"
   ]
  },
  {
   "cell_type": "code",
   "execution_count": 53,
   "id": "c042ddec",
   "metadata": {},
   "outputs": [
    {
     "data": {
      "text/plain": [
       "0"
      ]
     },
     "execution_count": 53,
     "metadata": {},
     "output_type": "execute_result"
    }
   ],
   "source": [
    "final.duplicated().sum()"
   ]
  },
  {
   "cell_type": "markdown",
   "id": "94903daa",
   "metadata": {},
   "source": [
    "#### calculate the length of comments of each customer"
   ]
  },
  {
   "cell_type": "code",
   "execution_count": 56,
   "id": "50baf061",
   "metadata": {},
   "outputs": [],
   "source": [
    "def calc_length(text):\n",
    "    return (len(text.split(' ')))"
   ]
  },
  {
   "cell_type": "code",
   "execution_count": 102,
   "id": "bafb7b75",
   "metadata": {},
   "outputs": [
    {
     "name": "stderr",
     "output_type": "stream",
     "text": [
      "C:\\Users\\user\\anaconda3\\lib\\site-packages\\ipykernel_launcher.py:1: SettingWithCopyWarning:\n",
      "\n",
      "\n",
      "A value is trying to be set on a copy of a slice from a DataFrame.\n",
      "Try using .loc[row_indexer,col_indexer] = value instead\n",
      "\n",
      "See the caveats in the documentation: https://pandas.pydata.org/pandas-docs/stable/user_guide/indexing.html#returning-a-view-versus-a-copy\n",
      "\n"
     ]
    }
   ],
   "source": [
    "final['Text_length'] = final['Text'].apply(calc_length)"
   ]
  },
  {
   "cell_type": "code",
   "execution_count": 85,
   "id": "90087894",
   "metadata": {},
   "outputs": [
    {
     "data": {
      "text/html": [
       "<div>\n",
       "<style scoped>\n",
       "    .dataframe tbody tr th:only-of-type {\n",
       "        vertical-align: middle;\n",
       "    }\n",
       "\n",
       "    .dataframe tbody tr th {\n",
       "        vertical-align: top;\n",
       "    }\n",
       "\n",
       "    .dataframe thead th {\n",
       "        text-align: right;\n",
       "    }\n",
       "</style>\n",
       "<table border=\"1\" class=\"dataframe\">\n",
       "  <thead>\n",
       "    <tr style=\"text-align: right;\">\n",
       "      <th></th>\n",
       "      <th>Id</th>\n",
       "      <th>ProductId</th>\n",
       "      <th>UserId</th>\n",
       "      <th>ProfileName</th>\n",
       "      <th>HelpfulnessNumerator</th>\n",
       "      <th>HelpfulnessDenominator</th>\n",
       "      <th>Score</th>\n",
       "      <th>Time</th>\n",
       "      <th>Summary</th>\n",
       "      <th>Text</th>\n",
       "      <th>Text_length</th>\n",
       "    </tr>\n",
       "  </thead>\n",
       "  <tbody>\n",
       "    <tr>\n",
       "      <th>0</th>\n",
       "      <td>1</td>\n",
       "      <td>B001E4KFG0</td>\n",
       "      <td>A3SGXH7AUHU8GW</td>\n",
       "      <td>delmartian</td>\n",
       "      <td>1</td>\n",
       "      <td>1</td>\n",
       "      <td>5</td>\n",
       "      <td>1303862400</td>\n",
       "      <td>Good Quality Dog Food</td>\n",
       "      <td>I have bought several of the Vitality canned d...</td>\n",
       "      <td>49</td>\n",
       "    </tr>\n",
       "    <tr>\n",
       "      <th>1</th>\n",
       "      <td>2</td>\n",
       "      <td>B00813GRG4</td>\n",
       "      <td>A1D87F6ZCVE5NK</td>\n",
       "      <td>dll pa</td>\n",
       "      <td>0</td>\n",
       "      <td>0</td>\n",
       "      <td>1</td>\n",
       "      <td>1346976000</td>\n",
       "      <td>Not as Advertised</td>\n",
       "      <td>Product arrived labeled as Jumbo Salted Peanut...</td>\n",
       "      <td>31</td>\n",
       "    </tr>\n",
       "    <tr>\n",
       "      <th>2</th>\n",
       "      <td>3</td>\n",
       "      <td>B000LQOCH0</td>\n",
       "      <td>ABXLMWJIXXAIN</td>\n",
       "      <td>Natalia Corres \"Natalia Corres\"</td>\n",
       "      <td>1</td>\n",
       "      <td>1</td>\n",
       "      <td>4</td>\n",
       "      <td>1219017600</td>\n",
       "      <td>\"Delight\" says it all</td>\n",
       "      <td>This is a confection that has been around a fe...</td>\n",
       "      <td>99</td>\n",
       "    </tr>\n",
       "    <tr>\n",
       "      <th>3</th>\n",
       "      <td>4</td>\n",
       "      <td>B000UA0QIQ</td>\n",
       "      <td>A395BORC6FGVXV</td>\n",
       "      <td>Karl</td>\n",
       "      <td>3</td>\n",
       "      <td>3</td>\n",
       "      <td>2</td>\n",
       "      <td>1307923200</td>\n",
       "      <td>Cough Medicine</td>\n",
       "      <td>If you are looking for the secret ingredient i...</td>\n",
       "      <td>43</td>\n",
       "    </tr>\n",
       "    <tr>\n",
       "      <th>4</th>\n",
       "      <td>5</td>\n",
       "      <td>B006K2ZZ7K</td>\n",
       "      <td>A1UQRSCLF8GW1T</td>\n",
       "      <td>Michael D. Bigham \"M. Wassir\"</td>\n",
       "      <td>0</td>\n",
       "      <td>0</td>\n",
       "      <td>5</td>\n",
       "      <td>1350777600</td>\n",
       "      <td>Great taffy</td>\n",
       "      <td>Great taffy at a great price.  There was a wid...</td>\n",
       "      <td>30</td>\n",
       "    </tr>\n",
       "  </tbody>\n",
       "</table>\n",
       "</div>"
      ],
      "text/plain": [
       "   Id   ProductId          UserId                      ProfileName  \\\n",
       "0   1  B001E4KFG0  A3SGXH7AUHU8GW                       delmartian   \n",
       "1   2  B00813GRG4  A1D87F6ZCVE5NK                           dll pa   \n",
       "2   3  B000LQOCH0   ABXLMWJIXXAIN  Natalia Corres \"Natalia Corres\"   \n",
       "3   4  B000UA0QIQ  A395BORC6FGVXV                             Karl   \n",
       "4   5  B006K2ZZ7K  A1UQRSCLF8GW1T    Michael D. Bigham \"M. Wassir\"   \n",
       "\n",
       "   HelpfulnessNumerator  HelpfulnessDenominator  Score        Time  \\\n",
       "0                     1                       1      5  1303862400   \n",
       "1                     0                       0      1  1346976000   \n",
       "2                     1                       1      4  1219017600   \n",
       "3                     3                       3      2  1307923200   \n",
       "4                     0                       0      5  1350777600   \n",
       "\n",
       "                 Summary                                               Text  \\\n",
       "0  Good Quality Dog Food  I have bought several of the Vitality canned d...   \n",
       "1      Not as Advertised  Product arrived labeled as Jumbo Salted Peanut...   \n",
       "2  \"Delight\" says it all  This is a confection that has been around a fe...   \n",
       "3         Cough Medicine  If you are looking for the secret ingredient i...   \n",
       "4            Great taffy  Great taffy at a great price.  There was a wid...   \n",
       "\n",
       "   Text_length  \n",
       "0           49  \n",
       "1           31  \n",
       "2           99  \n",
       "3           43  \n",
       "4           30  "
      ]
     },
     "execution_count": 85,
     "metadata": {},
     "output_type": "execute_result"
    }
   ],
   "source": [
    "final.head()"
   ]
  },
  {
   "cell_type": "markdown",
   "id": "321ec0dd",
   "metadata": {},
   "source": [
    "#### Generate a box plot"
   ]
  },
  {
   "cell_type": "code",
   "execution_count": 66,
   "id": "74bedfbb",
   "metadata": {},
   "outputs": [
    {
     "name": "stdout",
     "output_type": "stream",
     "text": [
      "Collecting plotly\n",
      "  Downloading plotly-5.6.0-py2.py3-none-any.whl (27.7 MB)\n",
      "Requirement already satisfied: six in c:\\users\\user\\anaconda3\\lib\\site-packages (from plotly) (1.15.0)\n",
      "Collecting tenacity>=6.2.0\n",
      "  Downloading tenacity-8.0.1-py3-none-any.whl (24 kB)\n",
      "Installing collected packages: tenacity, plotly\n",
      "Successfully installed plotly-5.6.0 tenacity-8.0.1\n"
     ]
    }
   ],
   "source": [
    "!pip install plotly"
   ]
  },
  {
   "cell_type": "code",
   "execution_count": 67,
   "id": "d84f7ec1",
   "metadata": {},
   "outputs": [],
   "source": [
    "import plotly.express as px"
   ]
  },
  {
   "cell_type": "code",
   "execution_count": 86,
   "id": "1d93776a",
   "metadata": {},
   "outputs": [
    {
     "data": {
      "application/vnd.plotly.v1+json": {
       "config": {
        "plotlyServerURL": "https://plot.ly"
       },
       "data": [
        {
         "alignmentgroup": "True",
         "hovertemplate": "Text_length=%{y}<extra></extra>",
         "legendgroup": "",
         "marker": {
          "color": "#636efa"
         },
         "name": "",
         "notched": false,
         "offsetgroup": "",
         "orientation": "v",
         "showlegend": false,
         "type": "box",
         "x0": " ",
         "xaxis": "x",
         "y": [
          49,
          31,
          99,
          43,
          30,
          72,
          53,
          28,
          26,
          25,
          149,
          68,
          79,
          15,
          22,
          24,
          42,
          27,
          131,
          30,
          46,
          45,
          27,
          20,
          61,
          14,
          22,
          38,
          95,
          149,
          89,
          18,
          203,
          94,
          94,
          74,
          44,
          47,
          106,
          51,
          112,
          228,
          31,
          37,
          44,
          40,
          50,
          23,
          50,
          40,
          19,
          77,
          220,
          35,
          66,
          62,
          36,
          36,
          28,
          23,
          30,
          30,
          17,
          180,
          54,
          32,
          139,
          91,
          42,
          18,
          70,
          125,
          74,
          314,
          16,
          19,
          100,
          60,
          25,
          36,
          39,
          26,
          445,
          80,
          63,
          50,
          82,
          37,
          127,
          50,
          38,
          22,
          43,
          189,
          24,
          61,
          158,
          58,
          80,
          38,
          34,
          19,
          49,
          35,
          33,
          52,
          16,
          80,
          55,
          134,
          31,
          56,
          349,
          24,
          59,
          23,
          40,
          94,
          298,
          133,
          76,
          94,
          82,
          128,
          94,
          57,
          50,
          42,
          39,
          47,
          40,
          51,
          48,
          72,
          22,
          74,
          62,
          27,
          23,
          102,
          48,
          47,
          58,
          72,
          91,
          85,
          171,
          34,
          39,
          35,
          55,
          26,
          24,
          47,
          61,
          75,
          36,
          22,
          88,
          44,
          26,
          34,
          62,
          46,
          48,
          68,
          29,
          83,
          36,
          46,
          39,
          57,
          43,
          211,
          133,
          49,
          48,
          50,
          32,
          68,
          48,
          20,
          165,
          124,
          20,
          24,
          407,
          31,
          82,
          59,
          27,
          46,
          54,
          89,
          18,
          62,
          39,
          28,
          23,
          35,
          65,
          41,
          23,
          196,
          43,
          57,
          21,
          64,
          100,
          200,
          116,
          219,
          46,
          382,
          43,
          32,
          30,
          269,
          127,
          105,
          111,
          136,
          83,
          26,
          20,
          86,
          47,
          33,
          25,
          43,
          69,
          97,
          35,
          25,
          45,
          161,
          104,
          291,
          110,
          21,
          109,
          36,
          58,
          27,
          20,
          142,
          88,
          59,
          32,
          21,
          130,
          39,
          28,
          127,
          32,
          241,
          46,
          125,
          114,
          63,
          35,
          21,
          35,
          208,
          109,
          23,
          24,
          145,
          32,
          91,
          23,
          90,
          61,
          20,
          55,
          121,
          25,
          90,
          34,
          76,
          58,
          27,
          78,
          183,
          32,
          73,
          90,
          168,
          134,
          30,
          55,
          104,
          90,
          154,
          37,
          127,
          75,
          66,
          32,
          185,
          47,
          42,
          92,
          37,
          66,
          116,
          82,
          21,
          113,
          58,
          66,
          50,
          26,
          95,
          48,
          114,
          27,
          172,
          27,
          27,
          27,
          13,
          30,
          17,
          18,
          29,
          96,
          38,
          199,
          57,
          24,
          28,
          72,
          63,
          48,
          39,
          34,
          44,
          25,
          94,
          111,
          32,
          37,
          54,
          113,
          47,
          43,
          67,
          28,
          35,
          36,
          34,
          89,
          48,
          21,
          37,
          100,
          54,
          73,
          45,
          84,
          25,
          88,
          31,
          31,
          32,
          34,
          77,
          50,
          75,
          328,
          24,
          44,
          20,
          54,
          46,
          48,
          112,
          41,
          57,
          60,
          24,
          45,
          241,
          27,
          109,
          59,
          144,
          20,
          69,
          44,
          24,
          22,
          31,
          46,
          33,
          48,
          35,
          151,
          31,
          36,
          43,
          30,
          86,
          25,
          64,
          139,
          95,
          45,
          57,
          122,
          42,
          37,
          45,
          34,
          42,
          144,
          71,
          43,
          42,
          81,
          20,
          22,
          51,
          141,
          41,
          52,
          52,
          79,
          71,
          196,
          56,
          79,
          40,
          58,
          52,
          86,
          36,
          36,
          147,
          113,
          80,
          40,
          132,
          22,
          35,
          207,
          56,
          35,
          36,
          177,
          133,
          20,
          18,
          59,
          122,
          32,
          38,
          37,
          100,
          106,
          61,
          97,
          74,
          55,
          80,
          242,
          255,
          50,
          47,
          88,
          31,
          20,
          132,
          24,
          63,
          38,
          20,
          20,
          48,
          67,
          25,
          17,
          48,
          41,
          72,
          24,
          20,
          121,
          92,
          64,
          47,
          96,
          21,
          114,
          33,
          69,
          154,
          35,
          76,
          37,
          25,
          23,
          92,
          91,
          27,
          153,
          64,
          176,
          30,
          50,
          88,
          49,
          107,
          131,
          31,
          86,
          26,
          25,
          15,
          106,
          25,
          277,
          75,
          43,
          119,
          40,
          143,
          557,
          105,
          69,
          114,
          23,
          22,
          34,
          143,
          40,
          53,
          25,
          887,
          49,
          86,
          64,
          63,
          68,
          25,
          134,
          99,
          27,
          16,
          51,
          64,
          77,
          148,
          44,
          37,
          27,
          33,
          25,
          61,
          199,
          101,
          166,
          87,
          43,
          73,
          107,
          83,
          86,
          43,
          42,
          289,
          251,
          45,
          242,
          25,
          73,
          121,
          21,
          20,
          33,
          43,
          41,
          26,
          37,
          84,
          73,
          87,
          62,
          89,
          22,
          167,
          146,
          134,
          107,
          95,
          43,
          51,
          46,
          121,
          73,
          89,
          294,
          242,
          43,
          60,
          20,
          83,
          78,
          171,
          29,
          60,
          70,
          70,
          98,
          104,
          36,
          31,
          34,
          33,
          204,
          69,
          58,
          158,
          200,
          89,
          61,
          34,
          52,
          53,
          72,
          35,
          156,
          139,
          34,
          110,
          83,
          22,
          64,
          104,
          23,
          82,
          68,
          104,
          26,
          36,
          117,
          29,
          24,
          272,
          39,
          156,
          357,
          278,
          32,
          22,
          24,
          32,
          39,
          106,
          24,
          35,
          31,
          210,
          117,
          49,
          32,
          37,
          30,
          22,
          24,
          132,
          53,
          67,
          51,
          63,
          87,
          22,
          38,
          88,
          29,
          27,
          28,
          27,
          28,
          27,
          144,
          27,
          140,
          45,
          88,
          52,
          106,
          41,
          31,
          35,
          69,
          99,
          75,
          50,
          35,
          27,
          41,
          22,
          30,
          20,
          31,
          15,
          22,
          130,
          104,
          42,
          114,
          70,
          43,
          93,
          63,
          45,
          106,
          72,
          60,
          65,
          70,
          22,
          20,
          116,
          30,
          20,
          63,
          63,
          53,
          57,
          37,
          34,
          72,
          194,
          42,
          128,
          87,
          56,
          131,
          177,
          55,
          59,
          221,
          413,
          125,
          293,
          24,
          17,
          21,
          233,
          124,
          104,
          22,
          64,
          34,
          22,
          41,
          52,
          120,
          47,
          55,
          74,
          84,
          99,
          244,
          20,
          33,
          21,
          214,
          32,
          58,
          44,
          20,
          19,
          83,
          37,
          115,
          29,
          20,
          47,
          200,
          88,
          29,
          273,
          69,
          39,
          27,
          81,
          80,
          134,
          28,
          65,
          124,
          24,
          31,
          111,
          33,
          31,
          31,
          22,
          27,
          139,
          39,
          43,
          42,
          52,
          22,
          32,
          68,
          23,
          35,
          60,
          85,
          31,
          128,
          25,
          96,
          100,
          66,
          54,
          94,
          256,
          23,
          51,
          40,
          56,
          36,
          71,
          30,
          60,
          85,
          142,
          55,
          49,
          44,
          40,
          100,
          94,
          82,
          28,
          29,
          104,
          72,
          35,
          41,
          24,
          56,
          31,
          140,
          180,
          57,
          25,
          41,
          39,
          65,
          45,
          33,
          305,
          42,
          48,
          434,
          20,
          23,
          375,
          112,
          56,
          27,
          38,
          52,
          16,
          274,
          87,
          62,
          194,
          27,
          80,
          130,
          89,
          129,
          189,
          30,
          29,
          26,
          67,
          86,
          55,
          42,
          45,
          29,
          157,
          96,
          54,
          68,
          270,
          67,
          42,
          116,
          280,
          207,
          156,
          67,
          157,
          41,
          26,
          77,
          190,
          60,
          46,
          31,
          147,
          55,
          20,
          27,
          50,
          161,
          26,
          41,
          23,
          117,
          25,
          65,
          102,
          27,
          57,
          50,
          40,
          78,
          135,
          33,
          163,
          42,
          83,
          33,
          121,
          35,
          28,
          42,
          51,
          33,
          88,
          52,
          142,
          23,
          30,
          118,
          69,
          24,
          16,
          25,
          66,
          50,
          70,
          71,
          26,
          41,
          49,
          44,
          172,
          24,
          49,
          52,
          159,
          67,
          88,
          78,
          113,
          22,
          116,
          38,
          33,
          63,
          229,
          107,
          26,
          57,
          189,
          68,
          32,
          28,
          75,
          51,
          90,
          37,
          89,
          33,
          59,
          90,
          46,
          81,
          55,
          50,
          91,
          40,
          94,
          62,
          53,
          54,
          90,
          25,
          47,
          46,
          68,
          20,
          32,
          20,
          101,
          200,
          51,
          35,
          38,
          37,
          23,
          47,
          40,
          380,
          30,
          91,
          55,
          46,
          37,
          38,
          87,
          57,
          54,
          33,
          69,
          46,
          39,
          26,
          23,
          33,
          53,
          37,
          29,
          128,
          30,
          35,
          106,
          246,
          36,
          77,
          54,
          99,
          53,
          27,
          31,
          72,
          25,
          26,
          99,
          575,
          130,
          43,
          99,
          90,
          37,
          114,
          61,
          26,
          28,
          79,
          20,
          242,
          40,
          20,
          20,
          78,
          432,
          41,
          48,
          90,
          38,
          26,
          77,
          235,
          72,
          73,
          71,
          68,
          50,
          148,
          41,
          105,
          46,
          44,
          69,
          36,
          46,
          162,
          79,
          105,
          92,
          65,
          77,
          31,
          80,
          43,
          47,
          60,
          135,
          22,
          66,
          24,
          71,
          117,
          167,
          52,
          49,
          58,
          56,
          64,
          301,
          200,
          23,
          35,
          31,
          27,
          308,
          114,
          104,
          15,
          22,
          28,
          25,
          21,
          64,
          55,
          66,
          63,
          44,
          258,
          24,
          62,
          55,
          61,
          24,
          148,
          103,
          52,
          21,
          33,
          40,
          17,
          89,
          58,
          43,
          23,
          29,
          136,
          63,
          48,
          30,
          50,
          432,
          36,
          67,
          60,
          41,
          32,
          34,
          58,
          69,
          412,
          29,
          31,
          123,
          45,
          105,
          59,
          61,
          23,
          32,
          25,
          22,
          163,
          68,
          54,
          61,
          38,
          116,
          128,
          22,
          42,
          56,
          181,
          25,
          23,
          137,
          46,
          75,
          77,
          39,
          119,
          51,
          36,
          45,
          119,
          46,
          42,
          60,
          25,
          35,
          181,
          64,
          323,
          79,
          65,
          20,
          36,
          17,
          20,
          26,
          27,
          36,
          37,
          55,
          27,
          381,
          27,
          132,
          139,
          29,
          30,
          23,
          24,
          38,
          73,
          26,
          15,
          30,
          82,
          40,
          46,
          28,
          163,
          49,
          39,
          71,
          75,
          66,
          37,
          86,
          34,
          87,
          93,
          67,
          35,
          52,
          167,
          47,
          62,
          16,
          35,
          42,
          22,
          205,
          61,
          59,
          39,
          40,
          64,
          20,
          40,
          180,
          68,
          39,
          35,
          104,
          58,
          57,
          85,
          54,
          130,
          83,
          48,
          25,
          34,
          70,
          45,
          28,
          23,
          23,
          30,
          27,
          61,
          86,
          25,
          101,
          45,
          145,
          22,
          65,
          28,
          86,
          36,
          32,
          43,
          92,
          75,
          21,
          74,
          40,
          35,
          94,
          81,
          28,
          67,
          37,
          39,
          225,
          76,
          88,
          44,
          28,
          36,
          114,
          40,
          85,
          936,
          69,
          27,
          119,
          295,
          101,
          32,
          53,
          17,
          28,
          96,
          21,
          38,
          43,
          35,
          43,
          167,
          55,
          21,
          23,
          92,
          51,
          76,
          36,
          15,
          32,
          26,
          33,
          97,
          37,
          72,
          45,
          43,
          96,
          28,
          45,
          35,
          28,
          49,
          53,
          29,
          41,
          21,
          34,
          15,
          23,
          36,
          67,
          52,
          76,
          57,
          95,
          48,
          335,
          388,
          115,
          37,
          127,
          164,
          42,
          125,
          53,
          40,
          50,
          165,
          150,
          43,
          91,
          30,
          70,
          21,
          129,
          103,
          109,
          92,
          73,
          66,
          43,
          73,
          45,
          52,
          125,
          56,
          122,
          184,
          124,
          23,
          24,
          41,
          63,
          52,
          29,
          46,
          48,
          101,
          60,
          34,
          43,
          25,
          22,
          38,
          139,
          21,
          107,
          110,
          28,
          79,
          28,
          98,
          18,
          57,
          38,
          72,
          120,
          89,
          83,
          48,
          44,
          47,
          214,
          143,
          103,
          24,
          102,
          94,
          33,
          27,
          108,
          20,
          77,
          148,
          173,
          134,
          102,
          25,
          33,
          83,
          34,
          72,
          105,
          56,
          116,
          42,
          83,
          24,
          51,
          54,
          22,
          254,
          244,
          21,
          60,
          59,
          18,
          70,
          21,
          159,
          57,
          16,
          24,
          193,
          72,
          41,
          153,
          127,
          91,
          98,
          27,
          205,
          22,
          27,
          34,
          27,
          55,
          57,
          48,
          39,
          839,
          273,
          136,
          20,
          273,
          137,
          134,
          39,
          157,
          22,
          84,
          25,
          79,
          40,
          173,
          89,
          24,
          23,
          22,
          33,
          89,
          79,
          181,
          58,
          61,
          130,
          45,
          51,
          42,
          46,
          55,
          102,
          72,
          77,
          114,
          51,
          26,
          178,
          35,
          34,
          63,
          124,
          82,
          217,
          48,
          16,
          68,
          87,
          35,
          37,
          63,
          14,
          32,
          13,
          205,
          36,
          17,
          169,
          54,
          114,
          12,
          120,
          17,
          36,
          57,
          68,
          78,
          23,
          23,
          29,
          106,
          23,
          26,
          74,
          82,
          326,
          217,
          470,
          175,
          211,
          108,
          101,
          79,
          38,
          179,
          97,
          162,
          83,
          58,
          86,
          60,
          55,
          65,
          23,
          104,
          175,
          57,
          72,
          49,
          92,
          59,
          89,
          190,
          162,
          58,
          29,
          20,
          118,
          64,
          131,
          41,
          24,
          151,
          32,
          128,
          69,
          25,
          191,
          23,
          129,
          98,
          45,
          38,
          27,
          59,
          20,
          101,
          41,
          24,
          154,
          25,
          32,
          30,
          41,
          95,
          29,
          28,
          36,
          70,
          28,
          93,
          25,
          20,
          25,
          72,
          72,
          44,
          80,
          81,
          79,
          146,
          89,
          57,
          45,
          84,
          45,
          92,
          280,
          54,
          26,
          91,
          29,
          33,
          73,
          68,
          55,
          148,
          80,
          52,
          47,
          23,
          83,
          90,
          81,
          44,
          40,
          48,
          33,
          25,
          29,
          31,
          41,
          137,
          46,
          57,
          57,
          27,
          22,
          119,
          50,
          119,
          53,
          57,
          49,
          87,
          28,
          16,
          29,
          23,
          30,
          60,
          145,
          53,
          134,
          20,
          269,
          113,
          159,
          322,
          110,
          110,
          62,
          118,
          67,
          53,
          40,
          21,
          87,
          15,
          65,
          51,
          37,
          146,
          57,
          36,
          36,
          27,
          73,
          91,
          53,
          25,
          31,
          81,
          67,
          24,
          36,
          51,
          69,
          80,
          65,
          20,
          53,
          56,
          29,
          22,
          24,
          23,
          34,
          29,
          122,
          187,
          110,
          35,
          34,
          101,
          96,
          23,
          108,
          44,
          19,
          49,
          67,
          79,
          66,
          52,
          22,
          57,
          57,
          33,
          62,
          99,
          33,
          22,
          21,
          53,
          17,
          38,
          49,
          60,
          129,
          18,
          48,
          15,
          91,
          22,
          159,
          24,
          23,
          35,
          166,
          21,
          72,
          38,
          51,
          54,
          31,
          23,
          28,
          389,
          23,
          33,
          32,
          45,
          22,
          39,
          79,
          36,
          54,
          53,
          55,
          35,
          27,
          20,
          159,
          29,
          59,
          52,
          208,
          173,
          99,
          86,
          156,
          28,
          60,
          167,
          44,
          196,
          24,
          604,
          27,
          132,
          122,
          82,
          61,
          66,
          21,
          55,
          23,
          78,
          124,
          46,
          55,
          28,
          79,
          80,
          27,
          51,
          47,
          47,
          274,
          39,
          61,
          33,
          147,
          83,
          225,
          398,
          68,
          102,
          210,
          72,
          123,
          167,
          44,
          71,
          32,
          39,
          27,
          22,
          64,
          37,
          55,
          38,
          40,
          112,
          46,
          64,
          48,
          72,
          59,
          37,
          57,
          56,
          64,
          40,
          35,
          37,
          41,
          153,
          23,
          72,
          204,
          56,
          58,
          22,
          146,
          30,
          44,
          194,
          63,
          69,
          21,
          28,
          330,
          86,
          312,
          83,
          56,
          27,
          30,
          159,
          109,
          35,
          20,
          191,
          88,
          75,
          52,
          87,
          179,
          104,
          82,
          45,
          176,
          187,
          169,
          89,
          264,
          144,
          141,
          64,
          106,
          70,
          53,
          48,
          61,
          176,
          86,
          217,
          15,
          27,
          104,
          61,
          52,
          16,
          76,
          177,
          35,
          16,
          43,
          34,
          16,
          24,
          48,
          113,
          31,
          33,
          92,
          40,
          29,
          43,
          69,
          24,
          55,
          27,
          69,
          28,
          59,
          38,
          77,
          32,
          96,
          33,
          64,
          26,
          62,
          39,
          61,
          60,
          52,
          62,
          64,
          184,
          74,
          85,
          56,
          284,
          54,
          102,
          150,
          227,
          47,
          68,
          122,
          77,
          50,
          68,
          42,
          94,
          346,
          52,
          88,
          29
         ],
         "y0": " ",
         "yaxis": "y"
        }
       ],
       "layout": {
        "boxmode": "group",
        "legend": {
         "tracegroupgap": 0
        },
        "margin": {
         "t": 60
        },
        "template": {
         "data": {
          "bar": [
           {
            "error_x": {
             "color": "#2a3f5f"
            },
            "error_y": {
             "color": "#2a3f5f"
            },
            "marker": {
             "line": {
              "color": "#E5ECF6",
              "width": 0.5
             },
             "pattern": {
              "fillmode": "overlay",
              "size": 10,
              "solidity": 0.2
             }
            },
            "type": "bar"
           }
          ],
          "barpolar": [
           {
            "marker": {
             "line": {
              "color": "#E5ECF6",
              "width": 0.5
             },
             "pattern": {
              "fillmode": "overlay",
              "size": 10,
              "solidity": 0.2
             }
            },
            "type": "barpolar"
           }
          ],
          "carpet": [
           {
            "aaxis": {
             "endlinecolor": "#2a3f5f",
             "gridcolor": "white",
             "linecolor": "white",
             "minorgridcolor": "white",
             "startlinecolor": "#2a3f5f"
            },
            "baxis": {
             "endlinecolor": "#2a3f5f",
             "gridcolor": "white",
             "linecolor": "white",
             "minorgridcolor": "white",
             "startlinecolor": "#2a3f5f"
            },
            "type": "carpet"
           }
          ],
          "choropleth": [
           {
            "colorbar": {
             "outlinewidth": 0,
             "ticks": ""
            },
            "type": "choropleth"
           }
          ],
          "contour": [
           {
            "colorbar": {
             "outlinewidth": 0,
             "ticks": ""
            },
            "colorscale": [
             [
              0,
              "#0d0887"
             ],
             [
              0.1111111111111111,
              "#46039f"
             ],
             [
              0.2222222222222222,
              "#7201a8"
             ],
             [
              0.3333333333333333,
              "#9c179e"
             ],
             [
              0.4444444444444444,
              "#bd3786"
             ],
             [
              0.5555555555555556,
              "#d8576b"
             ],
             [
              0.6666666666666666,
              "#ed7953"
             ],
             [
              0.7777777777777778,
              "#fb9f3a"
             ],
             [
              0.8888888888888888,
              "#fdca26"
             ],
             [
              1,
              "#f0f921"
             ]
            ],
            "type": "contour"
           }
          ],
          "contourcarpet": [
           {
            "colorbar": {
             "outlinewidth": 0,
             "ticks": ""
            },
            "type": "contourcarpet"
           }
          ],
          "heatmap": [
           {
            "colorbar": {
             "outlinewidth": 0,
             "ticks": ""
            },
            "colorscale": [
             [
              0,
              "#0d0887"
             ],
             [
              0.1111111111111111,
              "#46039f"
             ],
             [
              0.2222222222222222,
              "#7201a8"
             ],
             [
              0.3333333333333333,
              "#9c179e"
             ],
             [
              0.4444444444444444,
              "#bd3786"
             ],
             [
              0.5555555555555556,
              "#d8576b"
             ],
             [
              0.6666666666666666,
              "#ed7953"
             ],
             [
              0.7777777777777778,
              "#fb9f3a"
             ],
             [
              0.8888888888888888,
              "#fdca26"
             ],
             [
              1,
              "#f0f921"
             ]
            ],
            "type": "heatmap"
           }
          ],
          "heatmapgl": [
           {
            "colorbar": {
             "outlinewidth": 0,
             "ticks": ""
            },
            "colorscale": [
             [
              0,
              "#0d0887"
             ],
             [
              0.1111111111111111,
              "#46039f"
             ],
             [
              0.2222222222222222,
              "#7201a8"
             ],
             [
              0.3333333333333333,
              "#9c179e"
             ],
             [
              0.4444444444444444,
              "#bd3786"
             ],
             [
              0.5555555555555556,
              "#d8576b"
             ],
             [
              0.6666666666666666,
              "#ed7953"
             ],
             [
              0.7777777777777778,
              "#fb9f3a"
             ],
             [
              0.8888888888888888,
              "#fdca26"
             ],
             [
              1,
              "#f0f921"
             ]
            ],
            "type": "heatmapgl"
           }
          ],
          "histogram": [
           {
            "marker": {
             "pattern": {
              "fillmode": "overlay",
              "size": 10,
              "solidity": 0.2
             }
            },
            "type": "histogram"
           }
          ],
          "histogram2d": [
           {
            "colorbar": {
             "outlinewidth": 0,
             "ticks": ""
            },
            "colorscale": [
             [
              0,
              "#0d0887"
             ],
             [
              0.1111111111111111,
              "#46039f"
             ],
             [
              0.2222222222222222,
              "#7201a8"
             ],
             [
              0.3333333333333333,
              "#9c179e"
             ],
             [
              0.4444444444444444,
              "#bd3786"
             ],
             [
              0.5555555555555556,
              "#d8576b"
             ],
             [
              0.6666666666666666,
              "#ed7953"
             ],
             [
              0.7777777777777778,
              "#fb9f3a"
             ],
             [
              0.8888888888888888,
              "#fdca26"
             ],
             [
              1,
              "#f0f921"
             ]
            ],
            "type": "histogram2d"
           }
          ],
          "histogram2dcontour": [
           {
            "colorbar": {
             "outlinewidth": 0,
             "ticks": ""
            },
            "colorscale": [
             [
              0,
              "#0d0887"
             ],
             [
              0.1111111111111111,
              "#46039f"
             ],
             [
              0.2222222222222222,
              "#7201a8"
             ],
             [
              0.3333333333333333,
              "#9c179e"
             ],
             [
              0.4444444444444444,
              "#bd3786"
             ],
             [
              0.5555555555555556,
              "#d8576b"
             ],
             [
              0.6666666666666666,
              "#ed7953"
             ],
             [
              0.7777777777777778,
              "#fb9f3a"
             ],
             [
              0.8888888888888888,
              "#fdca26"
             ],
             [
              1,
              "#f0f921"
             ]
            ],
            "type": "histogram2dcontour"
           }
          ],
          "mesh3d": [
           {
            "colorbar": {
             "outlinewidth": 0,
             "ticks": ""
            },
            "type": "mesh3d"
           }
          ],
          "parcoords": [
           {
            "line": {
             "colorbar": {
              "outlinewidth": 0,
              "ticks": ""
             }
            },
            "type": "parcoords"
           }
          ],
          "pie": [
           {
            "automargin": true,
            "type": "pie"
           }
          ],
          "scatter": [
           {
            "marker": {
             "colorbar": {
              "outlinewidth": 0,
              "ticks": ""
             }
            },
            "type": "scatter"
           }
          ],
          "scatter3d": [
           {
            "line": {
             "colorbar": {
              "outlinewidth": 0,
              "ticks": ""
             }
            },
            "marker": {
             "colorbar": {
              "outlinewidth": 0,
              "ticks": ""
             }
            },
            "type": "scatter3d"
           }
          ],
          "scattercarpet": [
           {
            "marker": {
             "colorbar": {
              "outlinewidth": 0,
              "ticks": ""
             }
            },
            "type": "scattercarpet"
           }
          ],
          "scattergeo": [
           {
            "marker": {
             "colorbar": {
              "outlinewidth": 0,
              "ticks": ""
             }
            },
            "type": "scattergeo"
           }
          ],
          "scattergl": [
           {
            "marker": {
             "colorbar": {
              "outlinewidth": 0,
              "ticks": ""
             }
            },
            "type": "scattergl"
           }
          ],
          "scattermapbox": [
           {
            "marker": {
             "colorbar": {
              "outlinewidth": 0,
              "ticks": ""
             }
            },
            "type": "scattermapbox"
           }
          ],
          "scatterpolar": [
           {
            "marker": {
             "colorbar": {
              "outlinewidth": 0,
              "ticks": ""
             }
            },
            "type": "scatterpolar"
           }
          ],
          "scatterpolargl": [
           {
            "marker": {
             "colorbar": {
              "outlinewidth": 0,
              "ticks": ""
             }
            },
            "type": "scatterpolargl"
           }
          ],
          "scatterternary": [
           {
            "marker": {
             "colorbar": {
              "outlinewidth": 0,
              "ticks": ""
             }
            },
            "type": "scatterternary"
           }
          ],
          "surface": [
           {
            "colorbar": {
             "outlinewidth": 0,
             "ticks": ""
            },
            "colorscale": [
             [
              0,
              "#0d0887"
             ],
             [
              0.1111111111111111,
              "#46039f"
             ],
             [
              0.2222222222222222,
              "#7201a8"
             ],
             [
              0.3333333333333333,
              "#9c179e"
             ],
             [
              0.4444444444444444,
              "#bd3786"
             ],
             [
              0.5555555555555556,
              "#d8576b"
             ],
             [
              0.6666666666666666,
              "#ed7953"
             ],
             [
              0.7777777777777778,
              "#fb9f3a"
             ],
             [
              0.8888888888888888,
              "#fdca26"
             ],
             [
              1,
              "#f0f921"
             ]
            ],
            "type": "surface"
           }
          ],
          "table": [
           {
            "cells": {
             "fill": {
              "color": "#EBF0F8"
             },
             "line": {
              "color": "white"
             }
            },
            "header": {
             "fill": {
              "color": "#C8D4E3"
             },
             "line": {
              "color": "white"
             }
            },
            "type": "table"
           }
          ]
         },
         "layout": {
          "annotationdefaults": {
           "arrowcolor": "#2a3f5f",
           "arrowhead": 0,
           "arrowwidth": 1
          },
          "autotypenumbers": "strict",
          "coloraxis": {
           "colorbar": {
            "outlinewidth": 0,
            "ticks": ""
           }
          },
          "colorscale": {
           "diverging": [
            [
             0,
             "#8e0152"
            ],
            [
             0.1,
             "#c51b7d"
            ],
            [
             0.2,
             "#de77ae"
            ],
            [
             0.3,
             "#f1b6da"
            ],
            [
             0.4,
             "#fde0ef"
            ],
            [
             0.5,
             "#f7f7f7"
            ],
            [
             0.6,
             "#e6f5d0"
            ],
            [
             0.7,
             "#b8e186"
            ],
            [
             0.8,
             "#7fbc41"
            ],
            [
             0.9,
             "#4d9221"
            ],
            [
             1,
             "#276419"
            ]
           ],
           "sequential": [
            [
             0,
             "#0d0887"
            ],
            [
             0.1111111111111111,
             "#46039f"
            ],
            [
             0.2222222222222222,
             "#7201a8"
            ],
            [
             0.3333333333333333,
             "#9c179e"
            ],
            [
             0.4444444444444444,
             "#bd3786"
            ],
            [
             0.5555555555555556,
             "#d8576b"
            ],
            [
             0.6666666666666666,
             "#ed7953"
            ],
            [
             0.7777777777777778,
             "#fb9f3a"
            ],
            [
             0.8888888888888888,
             "#fdca26"
            ],
            [
             1,
             "#f0f921"
            ]
           ],
           "sequentialminus": [
            [
             0,
             "#0d0887"
            ],
            [
             0.1111111111111111,
             "#46039f"
            ],
            [
             0.2222222222222222,
             "#7201a8"
            ],
            [
             0.3333333333333333,
             "#9c179e"
            ],
            [
             0.4444444444444444,
             "#bd3786"
            ],
            [
             0.5555555555555556,
             "#d8576b"
            ],
            [
             0.6666666666666666,
             "#ed7953"
            ],
            [
             0.7777777777777778,
             "#fb9f3a"
            ],
            [
             0.8888888888888888,
             "#fdca26"
            ],
            [
             1,
             "#f0f921"
            ]
           ]
          },
          "colorway": [
           "#636efa",
           "#EF553B",
           "#00cc96",
           "#ab63fa",
           "#FFA15A",
           "#19d3f3",
           "#FF6692",
           "#B6E880",
           "#FF97FF",
           "#FECB52"
          ],
          "font": {
           "color": "#2a3f5f"
          },
          "geo": {
           "bgcolor": "white",
           "lakecolor": "white",
           "landcolor": "#E5ECF6",
           "showlakes": true,
           "showland": true,
           "subunitcolor": "white"
          },
          "hoverlabel": {
           "align": "left"
          },
          "hovermode": "closest",
          "mapbox": {
           "style": "light"
          },
          "paper_bgcolor": "white",
          "plot_bgcolor": "#E5ECF6",
          "polar": {
           "angularaxis": {
            "gridcolor": "white",
            "linecolor": "white",
            "ticks": ""
           },
           "bgcolor": "#E5ECF6",
           "radialaxis": {
            "gridcolor": "white",
            "linecolor": "white",
            "ticks": ""
           }
          },
          "scene": {
           "xaxis": {
            "backgroundcolor": "#E5ECF6",
            "gridcolor": "white",
            "gridwidth": 2,
            "linecolor": "white",
            "showbackground": true,
            "ticks": "",
            "zerolinecolor": "white"
           },
           "yaxis": {
            "backgroundcolor": "#E5ECF6",
            "gridcolor": "white",
            "gridwidth": 2,
            "linecolor": "white",
            "showbackground": true,
            "ticks": "",
            "zerolinecolor": "white"
           },
           "zaxis": {
            "backgroundcolor": "#E5ECF6",
            "gridcolor": "white",
            "gridwidth": 2,
            "linecolor": "white",
            "showbackground": true,
            "ticks": "",
            "zerolinecolor": "white"
           }
          },
          "shapedefaults": {
           "line": {
            "color": "#2a3f5f"
           }
          },
          "ternary": {
           "aaxis": {
            "gridcolor": "white",
            "linecolor": "white",
            "ticks": ""
           },
           "baxis": {
            "gridcolor": "white",
            "linecolor": "white",
            "ticks": ""
           },
           "bgcolor": "#E5ECF6",
           "caxis": {
            "gridcolor": "white",
            "linecolor": "white",
            "ticks": ""
           }
          },
          "title": {
           "x": 0.05
          },
          "xaxis": {
           "automargin": true,
           "gridcolor": "white",
           "linecolor": "white",
           "ticks": "",
           "title": {
            "standoff": 15
           },
           "zerolinecolor": "white",
           "zerolinewidth": 2
          },
          "yaxis": {
           "automargin": true,
           "gridcolor": "white",
           "linecolor": "white",
           "ticks": "",
           "title": {
            "standoff": 15
           },
           "zerolinecolor": "white",
           "zerolinewidth": 2
          }
         }
        },
        "xaxis": {
         "anchor": "y",
         "domain": [
          0,
          1
         ]
        },
        "yaxis": {
         "anchor": "x",
         "domain": [
          0,
          1
         ],
         "title": {
          "text": "Text_length"
         }
        }
       }
      },
      "text/html": [
       "<div>                            <div id=\"c55f20cd-6e1a-478a-a116-c512b37c545a\" class=\"plotly-graph-div\" style=\"height:525px; width:100%;\"></div>            <script type=\"text/javascript\">                require([\"plotly\"], function(Plotly) {                    window.PLOTLYENV=window.PLOTLYENV || {};                                    if (document.getElementById(\"c55f20cd-6e1a-478a-a116-c512b37c545a\")) {                    Plotly.newPlot(                        \"c55f20cd-6e1a-478a-a116-c512b37c545a\",                        [{\"alignmentgroup\":\"True\",\"hovertemplate\":\"Text_length=%{y}<extra></extra>\",\"legendgroup\":\"\",\"marker\":{\"color\":\"#636efa\"},\"name\":\"\",\"notched\":false,\"offsetgroup\":\"\",\"orientation\":\"v\",\"showlegend\":false,\"x0\":\" \",\"xaxis\":\"x\",\"y\":[49,31,99,43,30,72,53,28,26,25,149,68,79,15,22,24,42,27,131,30,46,45,27,20,61,14,22,38,95,149,89,18,203,94,94,74,44,47,106,51,112,228,31,37,44,40,50,23,50,40,19,77,220,35,66,62,36,36,28,23,30,30,17,180,54,32,139,91,42,18,70,125,74,314,16,19,100,60,25,36,39,26,445,80,63,50,82,37,127,50,38,22,43,189,24,61,158,58,80,38,34,19,49,35,33,52,16,80,55,134,31,56,349,24,59,23,40,94,298,133,76,94,82,128,94,57,50,42,39,47,40,51,48,72,22,74,62,27,23,102,48,47,58,72,91,85,171,34,39,35,55,26,24,47,61,75,36,22,88,44,26,34,62,46,48,68,29,83,36,46,39,57,43,211,133,49,48,50,32,68,48,20,165,124,20,24,407,31,82,59,27,46,54,89,18,62,39,28,23,35,65,41,23,196,43,57,21,64,100,200,116,219,46,382,43,32,30,269,127,105,111,136,83,26,20,86,47,33,25,43,69,97,35,25,45,161,104,291,110,21,109,36,58,27,20,142,88,59,32,21,130,39,28,127,32,241,46,125,114,63,35,21,35,208,109,23,24,145,32,91,23,90,61,20,55,121,25,90,34,76,58,27,78,183,32,73,90,168,134,30,55,104,90,154,37,127,75,66,32,185,47,42,92,37,66,116,82,21,113,58,66,50,26,95,48,114,27,172,27,27,27,13,30,17,18,29,96,38,199,57,24,28,72,63,48,39,34,44,25,94,111,32,37,54,113,47,43,67,28,35,36,34,89,48,21,37,100,54,73,45,84,25,88,31,31,32,34,77,50,75,328,24,44,20,54,46,48,112,41,57,60,24,45,241,27,109,59,144,20,69,44,24,22,31,46,33,48,35,151,31,36,43,30,86,25,64,139,95,45,57,122,42,37,45,34,42,144,71,43,42,81,20,22,51,141,41,52,52,79,71,196,56,79,40,58,52,86,36,36,147,113,80,40,132,22,35,207,56,35,36,177,133,20,18,59,122,32,38,37,100,106,61,97,74,55,80,242,255,50,47,88,31,20,132,24,63,38,20,20,48,67,25,17,48,41,72,24,20,121,92,64,47,96,21,114,33,69,154,35,76,37,25,23,92,91,27,153,64,176,30,50,88,49,107,131,31,86,26,25,15,106,25,277,75,43,119,40,143,557,105,69,114,23,22,34,143,40,53,25,887,49,86,64,63,68,25,134,99,27,16,51,64,77,148,44,37,27,33,25,61,199,101,166,87,43,73,107,83,86,43,42,289,251,45,242,25,73,121,21,20,33,43,41,26,37,84,73,87,62,89,22,167,146,134,107,95,43,51,46,121,73,89,294,242,43,60,20,83,78,171,29,60,70,70,98,104,36,31,34,33,204,69,58,158,200,89,61,34,52,53,72,35,156,139,34,110,83,22,64,104,23,82,68,104,26,36,117,29,24,272,39,156,357,278,32,22,24,32,39,106,24,35,31,210,117,49,32,37,30,22,24,132,53,67,51,63,87,22,38,88,29,27,28,27,28,27,144,27,140,45,88,52,106,41,31,35,69,99,75,50,35,27,41,22,30,20,31,15,22,130,104,42,114,70,43,93,63,45,106,72,60,65,70,22,20,116,30,20,63,63,53,57,37,34,72,194,42,128,87,56,131,177,55,59,221,413,125,293,24,17,21,233,124,104,22,64,34,22,41,52,120,47,55,74,84,99,244,20,33,21,214,32,58,44,20,19,83,37,115,29,20,47,200,88,29,273,69,39,27,81,80,134,28,65,124,24,31,111,33,31,31,22,27,139,39,43,42,52,22,32,68,23,35,60,85,31,128,25,96,100,66,54,94,256,23,51,40,56,36,71,30,60,85,142,55,49,44,40,100,94,82,28,29,104,72,35,41,24,56,31,140,180,57,25,41,39,65,45,33,305,42,48,434,20,23,375,112,56,27,38,52,16,274,87,62,194,27,80,130,89,129,189,30,29,26,67,86,55,42,45,29,157,96,54,68,270,67,42,116,280,207,156,67,157,41,26,77,190,60,46,31,147,55,20,27,50,161,26,41,23,117,25,65,102,27,57,50,40,78,135,33,163,42,83,33,121,35,28,42,51,33,88,52,142,23,30,118,69,24,16,25,66,50,70,71,26,41,49,44,172,24,49,52,159,67,88,78,113,22,116,38,33,63,229,107,26,57,189,68,32,28,75,51,90,37,89,33,59,90,46,81,55,50,91,40,94,62,53,54,90,25,47,46,68,20,32,20,101,200,51,35,38,37,23,47,40,380,30,91,55,46,37,38,87,57,54,33,69,46,39,26,23,33,53,37,29,128,30,35,106,246,36,77,54,99,53,27,31,72,25,26,99,575,130,43,99,90,37,114,61,26,28,79,20,242,40,20,20,78,432,41,48,90,38,26,77,235,72,73,71,68,50,148,41,105,46,44,69,36,46,162,79,105,92,65,77,31,80,43,47,60,135,22,66,24,71,117,167,52,49,58,56,64,301,200,23,35,31,27,308,114,104,15,22,28,25,21,64,55,66,63,44,258,24,62,55,61,24,148,103,52,21,33,40,17,89,58,43,23,29,136,63,48,30,50,432,36,67,60,41,32,34,58,69,412,29,31,123,45,105,59,61,23,32,25,22,163,68,54,61,38,116,128,22,42,56,181,25,23,137,46,75,77,39,119,51,36,45,119,46,42,60,25,35,181,64,323,79,65,20,36,17,20,26,27,36,37,55,27,381,27,132,139,29,30,23,24,38,73,26,15,30,82,40,46,28,163,49,39,71,75,66,37,86,34,87,93,67,35,52,167,47,62,16,35,42,22,205,61,59,39,40,64,20,40,180,68,39,35,104,58,57,85,54,130,83,48,25,34,70,45,28,23,23,30,27,61,86,25,101,45,145,22,65,28,86,36,32,43,92,75,21,74,40,35,94,81,28,67,37,39,225,76,88,44,28,36,114,40,85,936,69,27,119,295,101,32,53,17,28,96,21,38,43,35,43,167,55,21,23,92,51,76,36,15,32,26,33,97,37,72,45,43,96,28,45,35,28,49,53,29,41,21,34,15,23,36,67,52,76,57,95,48,335,388,115,37,127,164,42,125,53,40,50,165,150,43,91,30,70,21,129,103,109,92,73,66,43,73,45,52,125,56,122,184,124,23,24,41,63,52,29,46,48,101,60,34,43,25,22,38,139,21,107,110,28,79,28,98,18,57,38,72,120,89,83,48,44,47,214,143,103,24,102,94,33,27,108,20,77,148,173,134,102,25,33,83,34,72,105,56,116,42,83,24,51,54,22,254,244,21,60,59,18,70,21,159,57,16,24,193,72,41,153,127,91,98,27,205,22,27,34,27,55,57,48,39,839,273,136,20,273,137,134,39,157,22,84,25,79,40,173,89,24,23,22,33,89,79,181,58,61,130,45,51,42,46,55,102,72,77,114,51,26,178,35,34,63,124,82,217,48,16,68,87,35,37,63,14,32,13,205,36,17,169,54,114,12,120,17,36,57,68,78,23,23,29,106,23,26,74,82,326,217,470,175,211,108,101,79,38,179,97,162,83,58,86,60,55,65,23,104,175,57,72,49,92,59,89,190,162,58,29,20,118,64,131,41,24,151,32,128,69,25,191,23,129,98,45,38,27,59,20,101,41,24,154,25,32,30,41,95,29,28,36,70,28,93,25,20,25,72,72,44,80,81,79,146,89,57,45,84,45,92,280,54,26,91,29,33,73,68,55,148,80,52,47,23,83,90,81,44,40,48,33,25,29,31,41,137,46,57,57,27,22,119,50,119,53,57,49,87,28,16,29,23,30,60,145,53,134,20,269,113,159,322,110,110,62,118,67,53,40,21,87,15,65,51,37,146,57,36,36,27,73,91,53,25,31,81,67,24,36,51,69,80,65,20,53,56,29,22,24,23,34,29,122,187,110,35,34,101,96,23,108,44,19,49,67,79,66,52,22,57,57,33,62,99,33,22,21,53,17,38,49,60,129,18,48,15,91,22,159,24,23,35,166,21,72,38,51,54,31,23,28,389,23,33,32,45,22,39,79,36,54,53,55,35,27,20,159,29,59,52,208,173,99,86,156,28,60,167,44,196,24,604,27,132,122,82,61,66,21,55,23,78,124,46,55,28,79,80,27,51,47,47,274,39,61,33,147,83,225,398,68,102,210,72,123,167,44,71,32,39,27,22,64,37,55,38,40,112,46,64,48,72,59,37,57,56,64,40,35,37,41,153,23,72,204,56,58,22,146,30,44,194,63,69,21,28,330,86,312,83,56,27,30,159,109,35,20,191,88,75,52,87,179,104,82,45,176,187,169,89,264,144,141,64,106,70,53,48,61,176,86,217,15,27,104,61,52,16,76,177,35,16,43,34,16,24,48,113,31,33,92,40,29,43,69,24,55,27,69,28,59,38,77,32,96,33,64,26,62,39,61,60,52,62,64,184,74,85,56,284,54,102,150,227,47,68,122,77,50,68,42,94,346,52,88,29],\"y0\":\" \",\"yaxis\":\"y\",\"type\":\"box\"}],                        {\"template\":{\"data\":{\"bar\":[{\"error_x\":{\"color\":\"#2a3f5f\"},\"error_y\":{\"color\":\"#2a3f5f\"},\"marker\":{\"line\":{\"color\":\"#E5ECF6\",\"width\":0.5},\"pattern\":{\"fillmode\":\"overlay\",\"size\":10,\"solidity\":0.2}},\"type\":\"bar\"}],\"barpolar\":[{\"marker\":{\"line\":{\"color\":\"#E5ECF6\",\"width\":0.5},\"pattern\":{\"fillmode\":\"overlay\",\"size\":10,\"solidity\":0.2}},\"type\":\"barpolar\"}],\"carpet\":[{\"aaxis\":{\"endlinecolor\":\"#2a3f5f\",\"gridcolor\":\"white\",\"linecolor\":\"white\",\"minorgridcolor\":\"white\",\"startlinecolor\":\"#2a3f5f\"},\"baxis\":{\"endlinecolor\":\"#2a3f5f\",\"gridcolor\":\"white\",\"linecolor\":\"white\",\"minorgridcolor\":\"white\",\"startlinecolor\":\"#2a3f5f\"},\"type\":\"carpet\"}],\"choropleth\":[{\"colorbar\":{\"outlinewidth\":0,\"ticks\":\"\"},\"type\":\"choropleth\"}],\"contour\":[{\"colorbar\":{\"outlinewidth\":0,\"ticks\":\"\"},\"colorscale\":[[0.0,\"#0d0887\"],[0.1111111111111111,\"#46039f\"],[0.2222222222222222,\"#7201a8\"],[0.3333333333333333,\"#9c179e\"],[0.4444444444444444,\"#bd3786\"],[0.5555555555555556,\"#d8576b\"],[0.6666666666666666,\"#ed7953\"],[0.7777777777777778,\"#fb9f3a\"],[0.8888888888888888,\"#fdca26\"],[1.0,\"#f0f921\"]],\"type\":\"contour\"}],\"contourcarpet\":[{\"colorbar\":{\"outlinewidth\":0,\"ticks\":\"\"},\"type\":\"contourcarpet\"}],\"heatmap\":[{\"colorbar\":{\"outlinewidth\":0,\"ticks\":\"\"},\"colorscale\":[[0.0,\"#0d0887\"],[0.1111111111111111,\"#46039f\"],[0.2222222222222222,\"#7201a8\"],[0.3333333333333333,\"#9c179e\"],[0.4444444444444444,\"#bd3786\"],[0.5555555555555556,\"#d8576b\"],[0.6666666666666666,\"#ed7953\"],[0.7777777777777778,\"#fb9f3a\"],[0.8888888888888888,\"#fdca26\"],[1.0,\"#f0f921\"]],\"type\":\"heatmap\"}],\"heatmapgl\":[{\"colorbar\":{\"outlinewidth\":0,\"ticks\":\"\"},\"colorscale\":[[0.0,\"#0d0887\"],[0.1111111111111111,\"#46039f\"],[0.2222222222222222,\"#7201a8\"],[0.3333333333333333,\"#9c179e\"],[0.4444444444444444,\"#bd3786\"],[0.5555555555555556,\"#d8576b\"],[0.6666666666666666,\"#ed7953\"],[0.7777777777777778,\"#fb9f3a\"],[0.8888888888888888,\"#fdca26\"],[1.0,\"#f0f921\"]],\"type\":\"heatmapgl\"}],\"histogram\":[{\"marker\":{\"pattern\":{\"fillmode\":\"overlay\",\"size\":10,\"solidity\":0.2}},\"type\":\"histogram\"}],\"histogram2d\":[{\"colorbar\":{\"outlinewidth\":0,\"ticks\":\"\"},\"colorscale\":[[0.0,\"#0d0887\"],[0.1111111111111111,\"#46039f\"],[0.2222222222222222,\"#7201a8\"],[0.3333333333333333,\"#9c179e\"],[0.4444444444444444,\"#bd3786\"],[0.5555555555555556,\"#d8576b\"],[0.6666666666666666,\"#ed7953\"],[0.7777777777777778,\"#fb9f3a\"],[0.8888888888888888,\"#fdca26\"],[1.0,\"#f0f921\"]],\"type\":\"histogram2d\"}],\"histogram2dcontour\":[{\"colorbar\":{\"outlinewidth\":0,\"ticks\":\"\"},\"colorscale\":[[0.0,\"#0d0887\"],[0.1111111111111111,\"#46039f\"],[0.2222222222222222,\"#7201a8\"],[0.3333333333333333,\"#9c179e\"],[0.4444444444444444,\"#bd3786\"],[0.5555555555555556,\"#d8576b\"],[0.6666666666666666,\"#ed7953\"],[0.7777777777777778,\"#fb9f3a\"],[0.8888888888888888,\"#fdca26\"],[1.0,\"#f0f921\"]],\"type\":\"histogram2dcontour\"}],\"mesh3d\":[{\"colorbar\":{\"outlinewidth\":0,\"ticks\":\"\"},\"type\":\"mesh3d\"}],\"parcoords\":[{\"line\":{\"colorbar\":{\"outlinewidth\":0,\"ticks\":\"\"}},\"type\":\"parcoords\"}],\"pie\":[{\"automargin\":true,\"type\":\"pie\"}],\"scatter\":[{\"marker\":{\"colorbar\":{\"outlinewidth\":0,\"ticks\":\"\"}},\"type\":\"scatter\"}],\"scatter3d\":[{\"line\":{\"colorbar\":{\"outlinewidth\":0,\"ticks\":\"\"}},\"marker\":{\"colorbar\":{\"outlinewidth\":0,\"ticks\":\"\"}},\"type\":\"scatter3d\"}],\"scattercarpet\":[{\"marker\":{\"colorbar\":{\"outlinewidth\":0,\"ticks\":\"\"}},\"type\":\"scattercarpet\"}],\"scattergeo\":[{\"marker\":{\"colorbar\":{\"outlinewidth\":0,\"ticks\":\"\"}},\"type\":\"scattergeo\"}],\"scattergl\":[{\"marker\":{\"colorbar\":{\"outlinewidth\":0,\"ticks\":\"\"}},\"type\":\"scattergl\"}],\"scattermapbox\":[{\"marker\":{\"colorbar\":{\"outlinewidth\":0,\"ticks\":\"\"}},\"type\":\"scattermapbox\"}],\"scatterpolar\":[{\"marker\":{\"colorbar\":{\"outlinewidth\":0,\"ticks\":\"\"}},\"type\":\"scatterpolar\"}],\"scatterpolargl\":[{\"marker\":{\"colorbar\":{\"outlinewidth\":0,\"ticks\":\"\"}},\"type\":\"scatterpolargl\"}],\"scatterternary\":[{\"marker\":{\"colorbar\":{\"outlinewidth\":0,\"ticks\":\"\"}},\"type\":\"scatterternary\"}],\"surface\":[{\"colorbar\":{\"outlinewidth\":0,\"ticks\":\"\"},\"colorscale\":[[0.0,\"#0d0887\"],[0.1111111111111111,\"#46039f\"],[0.2222222222222222,\"#7201a8\"],[0.3333333333333333,\"#9c179e\"],[0.4444444444444444,\"#bd3786\"],[0.5555555555555556,\"#d8576b\"],[0.6666666666666666,\"#ed7953\"],[0.7777777777777778,\"#fb9f3a\"],[0.8888888888888888,\"#fdca26\"],[1.0,\"#f0f921\"]],\"type\":\"surface\"}],\"table\":[{\"cells\":{\"fill\":{\"color\":\"#EBF0F8\"},\"line\":{\"color\":\"white\"}},\"header\":{\"fill\":{\"color\":\"#C8D4E3\"},\"line\":{\"color\":\"white\"}},\"type\":\"table\"}]},\"layout\":{\"annotationdefaults\":{\"arrowcolor\":\"#2a3f5f\",\"arrowhead\":0,\"arrowwidth\":1},\"autotypenumbers\":\"strict\",\"coloraxis\":{\"colorbar\":{\"outlinewidth\":0,\"ticks\":\"\"}},\"colorscale\":{\"diverging\":[[0,\"#8e0152\"],[0.1,\"#c51b7d\"],[0.2,\"#de77ae\"],[0.3,\"#f1b6da\"],[0.4,\"#fde0ef\"],[0.5,\"#f7f7f7\"],[0.6,\"#e6f5d0\"],[0.7,\"#b8e186\"],[0.8,\"#7fbc41\"],[0.9,\"#4d9221\"],[1,\"#276419\"]],\"sequential\":[[0.0,\"#0d0887\"],[0.1111111111111111,\"#46039f\"],[0.2222222222222222,\"#7201a8\"],[0.3333333333333333,\"#9c179e\"],[0.4444444444444444,\"#bd3786\"],[0.5555555555555556,\"#d8576b\"],[0.6666666666666666,\"#ed7953\"],[0.7777777777777778,\"#fb9f3a\"],[0.8888888888888888,\"#fdca26\"],[1.0,\"#f0f921\"]],\"sequentialminus\":[[0.0,\"#0d0887\"],[0.1111111111111111,\"#46039f\"],[0.2222222222222222,\"#7201a8\"],[0.3333333333333333,\"#9c179e\"],[0.4444444444444444,\"#bd3786\"],[0.5555555555555556,\"#d8576b\"],[0.6666666666666666,\"#ed7953\"],[0.7777777777777778,\"#fb9f3a\"],[0.8888888888888888,\"#fdca26\"],[1.0,\"#f0f921\"]]},\"colorway\":[\"#636efa\",\"#EF553B\",\"#00cc96\",\"#ab63fa\",\"#FFA15A\",\"#19d3f3\",\"#FF6692\",\"#B6E880\",\"#FF97FF\",\"#FECB52\"],\"font\":{\"color\":\"#2a3f5f\"},\"geo\":{\"bgcolor\":\"white\",\"lakecolor\":\"white\",\"landcolor\":\"#E5ECF6\",\"showlakes\":true,\"showland\":true,\"subunitcolor\":\"white\"},\"hoverlabel\":{\"align\":\"left\"},\"hovermode\":\"closest\",\"mapbox\":{\"style\":\"light\"},\"paper_bgcolor\":\"white\",\"plot_bgcolor\":\"#E5ECF6\",\"polar\":{\"angularaxis\":{\"gridcolor\":\"white\",\"linecolor\":\"white\",\"ticks\":\"\"},\"bgcolor\":\"#E5ECF6\",\"radialaxis\":{\"gridcolor\":\"white\",\"linecolor\":\"white\",\"ticks\":\"\"}},\"scene\":{\"xaxis\":{\"backgroundcolor\":\"#E5ECF6\",\"gridcolor\":\"white\",\"gridwidth\":2,\"linecolor\":\"white\",\"showbackground\":true,\"ticks\":\"\",\"zerolinecolor\":\"white\"},\"yaxis\":{\"backgroundcolor\":\"#E5ECF6\",\"gridcolor\":\"white\",\"gridwidth\":2,\"linecolor\":\"white\",\"showbackground\":true,\"ticks\":\"\",\"zerolinecolor\":\"white\"},\"zaxis\":{\"backgroundcolor\":\"#E5ECF6\",\"gridcolor\":\"white\",\"gridwidth\":2,\"linecolor\":\"white\",\"showbackground\":true,\"ticks\":\"\",\"zerolinecolor\":\"white\"}},\"shapedefaults\":{\"line\":{\"color\":\"#2a3f5f\"}},\"ternary\":{\"aaxis\":{\"gridcolor\":\"white\",\"linecolor\":\"white\",\"ticks\":\"\"},\"baxis\":{\"gridcolor\":\"white\",\"linecolor\":\"white\",\"ticks\":\"\"},\"bgcolor\":\"#E5ECF6\",\"caxis\":{\"gridcolor\":\"white\",\"linecolor\":\"white\",\"ticks\":\"\"}},\"title\":{\"x\":0.05},\"xaxis\":{\"automargin\":true,\"gridcolor\":\"white\",\"linecolor\":\"white\",\"ticks\":\"\",\"title\":{\"standoff\":15},\"zerolinecolor\":\"white\",\"zerolinewidth\":2},\"yaxis\":{\"automargin\":true,\"gridcolor\":\"white\",\"linecolor\":\"white\",\"ticks\":\"\",\"title\":{\"standoff\":15},\"zerolinecolor\":\"white\",\"zerolinewidth\":2}}},\"xaxis\":{\"anchor\":\"y\",\"domain\":[0.0,1.0]},\"yaxis\":{\"anchor\":\"x\",\"domain\":[0.0,1.0],\"title\":{\"text\":\"Text_length\"}},\"legend\":{\"tracegroupgap\":0},\"margin\":{\"t\":60},\"boxmode\":\"group\"},                        {\"responsive\": true}                    ).then(function(){\n",
       "                            \n",
       "var gd = document.getElementById('c55f20cd-6e1a-478a-a116-c512b37c545a');\n",
       "var x = new MutationObserver(function (mutations, observer) {{\n",
       "        var display = window.getComputedStyle(gd).display;\n",
       "        if (!display || display === 'none') {{\n",
       "            console.log([gd, 'removed!']);\n",
       "            Plotly.purge(gd);\n",
       "            observer.disconnect();\n",
       "        }}\n",
       "}});\n",
       "\n",
       "// Listen for the removal of the full notebook cells\n",
       "var notebookContainer = gd.closest('#notebook-container');\n",
       "if (notebookContainer) {{\n",
       "    x.observe(notebookContainer, {childList: true});\n",
       "}}\n",
       "\n",
       "// Listen for the clearing of the current output cell\n",
       "var outputEl = gd.closest('.output');\n",
       "if (outputEl) {{\n",
       "    x.observe(outputEl, {childList: true});\n",
       "}}\n",
       "\n",
       "                        })                };                });            </script>        </div>"
      ]
     },
     "metadata": {},
     "output_type": "display_data"
    }
   ],
   "source": [
    "px.box(final, y=\"Text_length\")"
   ]
  },
  {
   "cell_type": "markdown",
   "id": "00b1f64d",
   "metadata": {},
   "source": [
    "#### Analyze the Score"
   ]
  },
  {
   "cell_type": "code",
   "execution_count": 87,
   "id": "d845b062",
   "metadata": {},
   "outputs": [
    {
     "name": "stderr",
     "output_type": "stream",
     "text": [
      "C:\\Users\\user\\anaconda3\\lib\\site-packages\\seaborn\\_decorators.py:43: FutureWarning:\n",
      "\n",
      "Pass the following variable as a keyword arg: x. From version 0.12, the only valid positional argument will be `data`, and passing other arguments without an explicit keyword will result in an error or misinterpretation.\n",
      "\n"
     ]
    },
    {
     "data": {
      "text/plain": [
       "<AxesSubplot:xlabel='Score', ylabel='count'>"
      ]
     },
     "execution_count": 87,
     "metadata": {},
     "output_type": "execute_result"
    },
    {
     "data": {
      "image/png": "[encoded data removed]",
      "text/plain": [
       "<Figure size 432x288 with 1 Axes>"
      ]
     },
     "metadata": {
      "needs_background": "light"
     },
     "output_type": "display_data"
    }
   ],
   "source": [
    "sns.countplot(final['Score'])"
   ]
  },
  {
   "cell_type": "markdown",
   "id": "7ed9f5d7",
   "metadata": {},
   "source": [
    "# Analysing Behaviour of Customer"
   ]
  },
  {
   "cell_type": "markdown",
   "id": "03a78315",
   "metadata": {},
   "source": [
    "#### Change all the text to lowercase"
   ]
  },
  {
   "cell_type": "code",
   "execution_count": 122,
   "id": "61c19da2",
   "metadata": {},
   "outputs": [
    {
     "name": "stderr",
     "output_type": "stream",
     "text": [
      "C:\\Users\\user\\anaconda3\\lib\\site-packages\\ipykernel_launcher.py:1: SettingWithCopyWarning:\n",
      "\n",
      "\n",
      "A value is trying to be set on a copy of a slice from a DataFrame.\n",
      "Try using .loc[row_indexer,col_indexer] = value instead\n",
      "\n",
      "See the caveats in the documentation: https://pandas.pydata.org/pandas-docs/stable/user_guide/indexing.html#returning-a-view-versus-a-copy\n",
      "\n"
     ]
    }
   ],
   "source": [
    "final['Text'] = final['Text'].str.lower()"
   ]
  },
  {
   "cell_type": "code",
   "execution_count": 90,
   "id": "8a3e2162",
   "metadata": {},
   "outputs": [
    {
     "name": "stdout",
     "output_type": "stream",
     "text": [
      "seriously this product was as tasteless as they come. there are much better tasting products out there but at 100 calories its better than a special k bar or cookie snack pack. you just have to season it or combine it with something else to share the flavor.\n"
     ]
    }
   ],
   "source": [
    "print(final['Text'][164])"
   ]
  },
  {
   "cell_type": "code",
   "execution_count": 91,
   "id": "c4c59847",
   "metadata": {},
   "outputs": [
    {
     "data": {
      "text/plain": [
       "'seriously this product was as tasteless as they come  there are much better tasting products out there but at     calories its better than a special k bar or cookie snack pack  you just have to season it or combine it with something else to share the flavor '"
      ]
     },
     "execution_count": 91,
     "metadata": {},
     "output_type": "execute_result"
    }
   ],
   "source": [
    "re.sub('[^a-zA-Z]',' ',final['Text'][164])"
   ]
  },
  {
   "cell_type": "code",
   "execution_count": 93,
   "id": "9c72188b",
   "metadata": {},
   "outputs": [
    {
     "name": "stdout",
     "output_type": "stream",
     "text": [
      "seriously this product was as tasteless as they come. there are much better tasting products out there but at 100 calories its better than a special k bar or cookie snack pack. you just have to season it or combine it with something else to share the flavor.\n"
     ]
    }
   ],
   "source": [
    "print(final['Text'][164])"
   ]
  },
  {
   "cell_type": "markdown",
   "id": "a763f788",
   "metadata": {},
   "source": [
    "#### drawback of this re.sub in this use-case is, it will remove some numerical data too & may be that numerical values matters alot\n",
    "#### thats way, I am going to create my own logic over here,that will remove all the special character"
   ]
  },
  {
   "cell_type": "code",
   "execution_count": 94,
   "id": "f07df149",
   "metadata": {},
   "outputs": [],
   "source": [
    "import string #This module is needed to import punctuation"
   ]
  },
  {
   "cell_type": "code",
   "execution_count": 120,
   "id": "f59e7cba",
   "metadata": {},
   "outputs": [],
   "source": [
    "punctuations = string.punctuation"
   ]
  },
  {
   "cell_type": "markdown",
   "id": "a0893039",
   "metadata": {},
   "source": [
    "#### Create a function to remove punctuation from a dataframe"
   ]
  },
  {
   "cell_type": "code",
   "execution_count": 123,
   "id": "0a263b87",
   "metadata": {},
   "outputs": [],
   "source": [
    "def remove_punc(review):\n",
    "    no_punc = \"\"\n",
    "    for char in review:\n",
    "        if char not in punctuations:\n",
    "            no_punc = no_punc + char\n",
    "    return no_punc"
   ]
  },
  {
   "cell_type": "code",
   "execution_count": 124,
   "id": "a7b6d20e",
   "metadata": {},
   "outputs": [
    {
     "name": "stderr",
     "output_type": "stream",
     "text": [
      "C:\\Users\\user\\anaconda3\\lib\\site-packages\\ipykernel_launcher.py:1: SettingWithCopyWarning:\n",
      "\n",
      "\n",
      "A value is trying to be set on a copy of a slice from a DataFrame.\n",
      "Try using .loc[row_indexer,col_indexer] = value instead\n",
      "\n",
      "See the caveats in the documentation: https://pandas.pydata.org/pandas-docs/stable/user_guide/indexing.html#returning-a-view-versus-a-copy\n",
      "\n"
     ]
    }
   ],
   "source": [
    "final['Text'] = final['Text'].apply(remove_punc)"
   ]
  },
  {
   "cell_type": "code",
   "execution_count": 97,
   "id": "615fc581",
   "metadata": {},
   "outputs": [
    {
     "name": "stdout",
     "output_type": "stream",
     "text": [
      " seriously this product was as tasteless as they come there are much better tasting products out there but at 100 calories its better than a special k bar or cookie snack pack you just have to season it or combine it with something else to share the flavor\n"
     ]
    }
   ],
   "source": [
    "print(final['Text'][164])"
   ]
  },
  {
   "cell_type": "markdown",
   "id": "0b6f3e07",
   "metadata": {},
   "source": [
    "                 You can see that although all punctuations are gone, the numbers remain"
   ]
  },
  {
   "cell_type": "markdown",
   "id": "18a26165",
   "metadata": {},
   "source": [
    "#### Remove stopwords"
   ]
  },
  {
   "cell_type": "code",
   "execution_count": 111,
   "id": "b4ea03a6",
   "metadata": {},
   "outputs": [
    {
     "name": "stderr",
     "output_type": "stream",
     "text": [
      "[nltk_data] Downloading package stopwords to\n",
      "[nltk_data]     C:\\Users\\user\\AppData\\Roaming\\nltk_data...\n",
      "[nltk_data]   Unzipping corpora\\stopwords.zip.\n"
     ]
    },
    {
     "data": {
      "text/plain": [
       "True"
      ]
     },
     "execution_count": 111,
     "metadata": {},
     "output_type": "execute_result"
    }
   ],
   "source": [
    "import nltk\n",
    "from nltk.corpus import stopwords\n",
    "nltk.download('stopwords')"
   ]
  },
  {
   "cell_type": "code",
   "execution_count": 125,
   "id": "fa505571",
   "metadata": {},
   "outputs": [],
   "source": [
    "data = final['Text'][164]"
   ]
  },
  {
   "cell_type": "code",
   "execution_count": 127,
   "id": "6669848a",
   "metadata": {},
   "outputs": [
    {
     "data": {
      "text/plain": [
       "'  seriously product tasteless come much better tasting products 100 calories better special k bar cookie snack pack season combine something else share flavor '"
      ]
     },
     "execution_count": 127,
     "metadata": {},
     "output_type": "execute_result"
    }
   ],
   "source": [
    "re = [word for word in data.split(\" \") if word not in set(stopwords.words('english'))]\n",
    "str = ''\n",
    "for wd in re:\n",
    "    str = str + wd\n",
    "    str = str + ' '\n",
    "    \n",
    "str"
   ]
  },
  {
   "cell_type": "markdown",
   "id": "1d2b2d25",
   "metadata": {},
   "source": [
    "#### Use join to convert list into string"
   ]
  },
  {
   "cell_type": "code",
   "execution_count": 156,
   "id": "d965c542",
   "metadata": {},
   "outputs": [
    {
     "data": {
      "text/plain": [
       "'  seriously product tasteless come much better tasting products 100 calories better special k bar cookie snack pack season combine something else share flavor'"
      ]
     },
     "execution_count": 156,
     "metadata": {},
     "output_type": "execute_result"
    }
   ],
   "source": [
    "da =[word for word in data.split(' ') if word not in set(stopwords.words('english'))]\n",
    "' '.join(da)"
   ]
  },
  {
   "cell_type": "code",
   "execution_count": 134,
   "id": "df06c8e7",
   "metadata": {},
   "outputs": [],
   "source": [
    "def remove_stopwords(review):\n",
    "    return ' '.join([word for word in review.split(' ') if word not in set(stopwords.words('english'))])"
   ]
  },
  {
   "cell_type": "code",
   "execution_count": 135,
   "id": "fa5b922e",
   "metadata": {},
   "outputs": [
    {
     "name": "stderr",
     "output_type": "stream",
     "text": [
      "C:\\Users\\user\\anaconda3\\lib\\site-packages\\ipykernel_launcher.py:1: SettingWithCopyWarning:\n",
      "\n",
      "\n",
      "A value is trying to be set on a copy of a slice from a DataFrame.\n",
      "Try using .loc[row_indexer,col_indexer] = value instead\n",
      "\n",
      "See the caveats in the documentation: https://pandas.pydata.org/pandas-docs/stable/user_guide/indexing.html#returning-a-view-versus-a-copy\n",
      "\n"
     ]
    }
   ],
   "source": [
    "final['Text'] = final['Text'].apply(remove_stopwords)"
   ]
  },
  {
   "cell_type": "code",
   "execution_count": 136,
   "id": "9b633c5a",
   "metadata": {},
   "outputs": [
    {
     "data": {
      "text/plain": [
       "'  seriously product tasteless come much better tasting products 100 calories better special k bar cookie snack pack season combine something else share flavor'"
      ]
     },
     "execution_count": 136,
     "metadata": {},
     "output_type": "execute_result"
    }
   ],
   "source": [
    "final['Text'][164]"
   ]
  },
  {
   "cell_type": "markdown",
   "id": "7af2d2dd",
   "metadata": {},
   "source": [
    "### Get rid of hyperlinks (http)"
   ]
  },
  {
   "cell_type": "code",
   "execution_count": 151,
   "id": "ef864ab7",
   "metadata": {},
   "outputs": [
    {
     "data": {
      "text/plain": [
       "'  bought husband currently overseas loves apparently staff likes alsobr generous amounts twizzlers 16ounce bag well worth price hrefhttpwwwamazoncomgpproductb001gvisjmtwizzlers strawberry 16ounce bags pack 6a'"
      ]
     },
     "execution_count": 151,
     "metadata": {},
     "output_type": "execute_result"
    }
   ],
   "source": [
    "# contains_https = final['Text'].str.contains('http?')\n",
    "contains_https = final[final['Text'].str.contains('http?')]\n",
    "contains_https['Text'][21] # The index of the rows remain the same. The index doesn't restart from 0"
   ]
  },
  {
   "cell_type": "code",
   "execution_count": 153,
   "id": "31be2520",
   "metadata": {},
   "outputs": [],
   "source": [
    "review = contains_https['Text'][21]"
   ]
  },
  {
   "cell_type": "code",
   "execution_count": 158,
   "id": "82d73c4e",
   "metadata": {},
   "outputs": [],
   "source": [
    "import re"
   ]
  },
  {
   "cell_type": "code",
   "execution_count": 159,
   "id": "266d638b",
   "metadata": {},
   "outputs": [
    {
     "data": {
      "text/plain": [
       "'  bought husband currently overseas loves apparently staff likes alsobr generous amounts twizzlers 16ounce bag well worth price  strawberry 16ounce bags pack 6a'"
      ]
     },
     "execution_count": 159,
     "metadata": {},
     "output_type": "execute_result"
    }
   ],
   "source": [
    "url_pattern = re.compile(r'href|http.\\w+')\n",
    "url_pattern.sub(r'', review)"
   ]
  },
  {
   "cell_type": "code",
   "execution_count": 160,
   "id": "dea6a396",
   "metadata": {},
   "outputs": [],
   "source": [
    "def remove_http(review):\n",
    "    url_pattern = re.compile(r'href|http.\\w+')\n",
    "    return url_pattern.sub(r'', review)"
   ]
  },
  {
   "cell_type": "code",
   "execution_count": 161,
   "id": "3433f79d",
   "metadata": {},
   "outputs": [
    {
     "name": "stderr",
     "output_type": "stream",
     "text": [
      "C:\\Users\\user\\anaconda3\\lib\\site-packages\\ipykernel_launcher.py:1: SettingWithCopyWarning:\n",
      "\n",
      "\n",
      "A value is trying to be set on a copy of a slice from a DataFrame.\n",
      "Try using .loc[row_indexer,col_indexer] = value instead\n",
      "\n",
      "See the caveats in the documentation: https://pandas.pydata.org/pandas-docs/stable/user_guide/indexing.html#returning-a-view-versus-a-copy\n",
      "\n"
     ]
    }
   ],
   "source": [
    "final['Text'] = final['Text'].apply(remove_http)"
   ]
  },
  {
   "cell_type": "code",
   "execution_count": 162,
   "id": "8433687a",
   "metadata": {},
   "outputs": [
    {
     "data": {
      "text/plain": [
       "'  bought husband currently overseas loves apparently staff likes alsobr generous amounts twizzlers 16ounce bag well worth price  strawberry 16ounce bags pack 6a'"
      ]
     },
     "execution_count": 162,
     "metadata": {},
     "output_type": "execute_result"
    }
   ],
   "source": [
    "final['Text'][21]"
   ]
  },
  {
   "cell_type": "code",
   "execution_count": 163,
   "id": "099dd964",
   "metadata": {},
   "outputs": [
    {
     "data": {
      "text/plain": [
       "0"
      ]
     },
     "execution_count": 163,
     "metadata": {},
     "output_type": "execute_result"
    }
   ],
   "source": [
    "# How many rows contain 'http'?\n",
    "final['Text'].str.contains('http').sum()"
   ]
  },
  {
   "cell_type": "code",
   "execution_count": 164,
   "id": "571896e1",
   "metadata": {},
   "outputs": [
    {
     "data": {
      "text/plain": [
       "'  instant oatmeal become soggy minute water hits bowl mccanns instant oatmeal holds texture excellent flavor good time mccanns regular oat meal excellent may take bit longer prepare time morning best instant brand ive ever eaten close second noninstant varietybr br mccanns instant irish oatmeal variety pack regular apples  cinnamon maple  brown sugar 10count boxes pack 6'"
      ]
     },
     "execution_count": 164,
     "metadata": {},
     "output_type": "execute_result"
    }
   ],
   "source": [
    "final['Text'][34]"
   ]
  },
  {
   "cell_type": "code",
   "execution_count": 165,
   "id": "28e23384",
   "metadata": {},
   "outputs": [
    {
     "data": {
      "text/plain": [
       "752"
      ]
     },
     "execution_count": 165,
     "metadata": {},
     "output_type": "execute_result"
    }
   ],
   "source": [
    "# How many rows contain 'br'\n",
    "final['Text'].str.contains('br').sum()"
   ]
  },
  {
   "cell_type": "markdown",
   "id": "167de5c7",
   "metadata": {},
   "source": [
    "                            That is a lot of rows"
   ]
  },
  {
   "cell_type": "code",
   "execution_count": 166,
   "id": "40959f67",
   "metadata": {},
   "outputs": [
    {
     "name": "stderr",
     "output_type": "stream",
     "text": [
      "C:\\Users\\user\\anaconda3\\lib\\site-packages\\ipykernel_launcher.py:3: SettingWithCopyWarning:\n",
      "\n",
      "\n",
      "A value is trying to be set on a copy of a slice from a DataFrame\n",
      "\n",
      "See the caveats in the documentation: https://pandas.pydata.org/pandas-docs/stable/user_guide/indexing.html#returning-a-view-versus-a-copy\n",
      "\n"
     ]
    }
   ],
   "source": [
    "# Replace 'br' with ''. So basically remove 'br' from the string\n",
    "for i in range(len(final['Text'])):\n",
    "    final['Text'][i] = final['Text'][i].replace('br', '')"
   ]
  },
  {
   "cell_type": "markdown",
   "id": "42c22df8",
   "metadata": {},
   "source": [
    "#### Display most frequent words"
   ]
  },
  {
   "cell_type": "code",
   "execution_count": 167,
   "id": "ffbaf277",
   "metadata": {},
   "outputs": [],
   "source": [
    "# Join all the sentences to 1 big string\n",
    "comment_words = ' '.join(final['Text'])"
   ]
  },
  {
   "cell_type": "code",
   "execution_count": 172,
   "id": "e68a59e2",
   "metadata": {},
   "outputs": [],
   "source": [
    "stopwords = set(stopwords.words('english'))"
   ]
  },
  {
   "cell_type": "code",
   "execution_count": 173,
   "id": "3ae69a1c",
   "metadata": {},
   "outputs": [
    {
     "data": {
      "text/plain": [
       "(-0.5, 999.5, 499.5, -0.5)"
      ]
     },
     "execution_count": 173,
     "metadata": {},
     "output_type": "execute_result"
    },
    {
     "data": {
      "image/png": "[encoded data removed]",
      "text/plain": [
       "<Figure size 1080x360 with 1 Axes>"
      ]
     },
     "metadata": {
      "needs_background": "light"
     },
     "output_type": "display_data"
    }
   ],
   "source": [
    "wordcloud3 = WordCloud(width=1000, height=500, stopwords=stopwords).generate(comment_words)\n",
    "\n",
    "plt.figure(figsize=(15,5))\n",
    "plt.imshow(wordcloud3)\n",
    "plt.axis('off') #to remove the axis number from showing"
   ]
  },
  {
   "cell_type": "markdown",
   "id": "e39128ab",
   "metadata": {},
   "source": [
    "      THESE ARE THE KEY WORDS SHOWING THE BEHAVIOUR OF THE CUSTOMER"
   ]
  },
  {
   "cell_type": "code",
   "execution_count": null,
   "id": "5b160e27",
   "metadata": {},
   "outputs": [],
   "source": []
  }
 ],
 "metadata": {
  "kernelspec": {
   "display_name": "Python 3",
   "language": "python",
   "name": "python3"
  },
  "language_info": {
   "codemirror_mode": {
    "name": "ipython",
    "version": 3
   },
   "file_extension": ".py",
   "mimetype": "text/x-python",
   "name": "python",
   "nbconvert_exporter": "python",
   "pygments_lexer": "ipython3",
   "version": "3.7.6"
  }
 },
 "nbformat": 4,
 "nbformat_minor": 5
}
